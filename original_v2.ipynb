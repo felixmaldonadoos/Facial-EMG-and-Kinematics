{
 "cells": [
  {
   "cell_type": "code",
   "execution_count": 1,
   "metadata": {},
   "outputs": [],
   "source": [
    "import pandas as pd\n",
    "import matplotlib.pyplot as plt\n",
    "import numpy as np\n",
    "import scipy as sp\n",
    "from scipy import signal\n",
    "from scipy.fft import fft, fftfreq\n",
    "import pylab\n",
    "import numpy as np\n",
    "import matplotlib.pyplot as plt\n",
    "import matplotlib.patches as mpatches\n",
    "from sklearn.metrics import mean_squared_error"
   ]
  },
  {
   "cell_type": "markdown",
   "metadata": {},
   "source": [
    "## Import Data\n",
    "    Available paths: \n",
    "    \n",
    "    EMG DATA:\n",
    "        - subject1_open_5.xlsx XXX\n",
    "        - subject1_smile_1.xlsx Spike in right ocul.\n",
    "        - subject1_smile_4.xlsx Spike in right ocul.\n",
    "    FAME DATA:\n",
    "        - subject1_smile_1_landmarks.csv\n",
    "        - subject1_smile_4_landmarks.csv\n",
    "## Sensor Labels\n",
    "    EMG 1 = a; left side of face\n",
    "    EMG 2 = b; right side of face\n",
    "    Ch a-d = 1-4; a-d, indicated by sensor color"
   ]
  },
  {
   "cell_type": "code",
   "execution_count": 2,
   "metadata": {},
   "outputs": [],
   "source": [
    "path_emg = 'subject1_smile_1.xlsx'\n",
    "path_kin = 'subject1_smile_1_landmarks.csv'"
   ]
  },
  {
   "cell_type": "code",
   "execution_count": 3,
   "metadata": {},
   "outputs": [],
   "source": [
    "fs = 2000\n",
    "fps = 100"
   ]
  },
  {
   "cell_type": "code",
   "execution_count": 4,
   "metadata": {},
   "outputs": [],
   "source": [
    "m1 = \"Dep. anguli oris\"\n",
    "m2 = \"Orbicularis Oris (l)\"\n",
    "m3 = \"Zyg. Major\"\n",
    "m4 = \"Orbiculis Oculi\"\n",
    "\n",
    "a1 = \"L.Dep. anguli oris\"\n",
    "a2 = \"L.Orbicularis Oris (l)\"\n",
    "a3 = \"L.Zyg. Major\"\n",
    "a4 = \"L.Orbiculis Oculi\"\n",
    "\n",
    "b1 = \"R.Dep. anguli oris\"\n",
    "b2 = \"R.Orbicularis Oris (l)\"\n",
    "b3 = \"R.Zyg. major\"\n",
    "b4 = \"R.Orbiculis Oculi\"\n",
    "\n",
    "l = \"left\"\n",
    "r = \"right\""
   ]
  },
  {
   "cell_type": "code",
   "execution_count": 5,
   "metadata": {},
   "outputs": [],
   "source": [
    "def import_emg(path_emg):\n",
    "    df = pd.read_excel(path_emg)\n",
    "    df = df.set_index('time')\n",
    "    return df\n",
    "\n",
    "def import_kin(path_kin):   \n",
    "    df = pd.read_csv(path_kin)\n",
    "    df['time'] = df['Frame_number'] / 100\n",
    "    df = df.iloc[::-1]\n",
    "    df = df.set_index('time')\n",
    "    return df"
   ]
  },
  {
   "cell_type": "code",
   "execution_count": 6,
   "metadata": {},
   "outputs": [
    {
     "data": {
      "text/html": [
       "<div>\n",
       "<style scoped>\n",
       "    .dataframe tbody tr th:only-of-type {\n",
       "        vertical-align: middle;\n",
       "    }\n",
       "\n",
       "    .dataframe tbody tr th {\n",
       "        vertical-align: top;\n",
       "    }\n",
       "\n",
       "    .dataframe thead th {\n",
       "        text-align: right;\n",
       "    }\n",
       "</style>\n",
       "<table border=\"1\" class=\"dataframe\">\n",
       "  <thead>\n",
       "    <tr style=\"text-align: right;\">\n",
       "      <th></th>\n",
       "      <th>a1</th>\n",
       "      <th>a2</th>\n",
       "      <th>a3</th>\n",
       "      <th>a4</th>\n",
       "      <th>b1</th>\n",
       "      <th>b2</th>\n",
       "      <th>b3</th>\n",
       "      <th>b4</th>\n",
       "    </tr>\n",
       "    <tr>\n",
       "      <th>time</th>\n",
       "      <th></th>\n",
       "      <th></th>\n",
       "      <th></th>\n",
       "      <th></th>\n",
       "      <th></th>\n",
       "      <th></th>\n",
       "      <th></th>\n",
       "      <th></th>\n",
       "    </tr>\n",
       "  </thead>\n",
       "  <tbody>\n",
       "    <tr>\n",
       "      <th>0.0000</th>\n",
       "      <td>-6.017704e-13</td>\n",
       "      <td>-9.593442e-13</td>\n",
       "      <td>-9.855081e-13</td>\n",
       "      <td>-7.936393e-13</td>\n",
       "      <td>7.325901e-13</td>\n",
       "      <td>1.404131e-12</td>\n",
       "      <td>5.843278e-13</td>\n",
       "      <td>2.703606e-13</td>\n",
       "    </tr>\n",
       "    <tr>\n",
       "      <th>0.0005</th>\n",
       "      <td>-5.094890e-07</td>\n",
       "      <td>-8.122304e-07</td>\n",
       "      <td>-8.343824e-07</td>\n",
       "      <td>-6.719360e-07</td>\n",
       "      <td>6.202469e-07</td>\n",
       "      <td>1.188809e-06</td>\n",
       "      <td>4.947228e-07</td>\n",
       "      <td>2.289007e-07</td>\n",
       "    </tr>\n",
       "    <tr>\n",
       "      <th>0.0010</th>\n",
       "      <td>-1.052261e-05</td>\n",
       "      <td>-1.689578e-05</td>\n",
       "      <td>-1.738180e-05</td>\n",
       "      <td>-1.397741e-05</td>\n",
       "      <td>1.276352e-05</td>\n",
       "      <td>2.464100e-05</td>\n",
       "      <td>1.034150e-05</td>\n",
       "      <td>4.711096e-06</td>\n",
       "    </tr>\n",
       "    <tr>\n",
       "      <th>0.0015</th>\n",
       "      <td>-1.165233e-05</td>\n",
       "      <td>-2.011176e-05</td>\n",
       "      <td>-2.109853e-05</td>\n",
       "      <td>-1.655467e-05</td>\n",
       "      <td>1.328889e-05</td>\n",
       "      <td>2.811801e-05</td>\n",
       "      <td>1.278868e-05</td>\n",
       "      <td>4.918559e-06</td>\n",
       "    </tr>\n",
       "    <tr>\n",
       "      <th>0.0020</th>\n",
       "      <td>-1.120676e-05</td>\n",
       "      <td>-1.834543e-05</td>\n",
       "      <td>-2.033471e-05</td>\n",
       "      <td>-1.441966e-05</td>\n",
       "      <td>1.067679e-05</td>\n",
       "      <td>2.423735e-05</td>\n",
       "      <td>1.048404e-05</td>\n",
       "      <td>3.556361e-06</td>\n",
       "    </tr>\n",
       "  </tbody>\n",
       "</table>\n",
       "</div>"
      ],
      "text/plain": [
       "                  a1            a2            a3            a4            b1  \\\n",
       "time                                                                           \n",
       "0.0000 -6.017704e-13 -9.593442e-13 -9.855081e-13 -7.936393e-13  7.325901e-13   \n",
       "0.0005 -5.094890e-07 -8.122304e-07 -8.343824e-07 -6.719360e-07  6.202469e-07   \n",
       "0.0010 -1.052261e-05 -1.689578e-05 -1.738180e-05 -1.397741e-05  1.276352e-05   \n",
       "0.0015 -1.165233e-05 -2.011176e-05 -2.109853e-05 -1.655467e-05  1.328889e-05   \n",
       "0.0020 -1.120676e-05 -1.834543e-05 -2.033471e-05 -1.441966e-05  1.067679e-05   \n",
       "\n",
       "                  b2            b3            b4  \n",
       "time                                              \n",
       "0.0000  1.404131e-12  5.843278e-13  2.703606e-13  \n",
       "0.0005  1.188809e-06  4.947228e-07  2.289007e-07  \n",
       "0.0010  2.464100e-05  1.034150e-05  4.711096e-06  \n",
       "0.0015  2.811801e-05  1.278868e-05  4.918559e-06  \n",
       "0.0020  2.423735e-05  1.048404e-05  3.556361e-06  "
      ]
     },
     "execution_count": 6,
     "metadata": {},
     "output_type": "execute_result"
    }
   ],
   "source": [
    "emg = import_emg('subject1_smile_1.xlsx')\n",
    "emg.head()"
   ]
  },
  {
   "cell_type": "code",
   "execution_count": 7,
   "metadata": {},
   "outputs": [
    {
     "data": {
      "text/html": [
       "<div>\n",
       "<style scoped>\n",
       "    .dataframe tbody tr th:only-of-type {\n",
       "        vertical-align: middle;\n",
       "    }\n",
       "\n",
       "    .dataframe tbody tr th {\n",
       "        vertical-align: top;\n",
       "    }\n",
       "\n",
       "    .dataframe thead th {\n",
       "        text-align: right;\n",
       "    }\n",
       "</style>\n",
       "<table border=\"1\" class=\"dataframe\">\n",
       "  <thead>\n",
       "    <tr style=\"text-align: right;\">\n",
       "      <th></th>\n",
       "      <th>Unnamed: 0</th>\n",
       "      <th>Frame_number</th>\n",
       "      <th>bbox_top_x</th>\n",
       "      <th>bbox_top_y</th>\n",
       "      <th>bbox_bottom_x</th>\n",
       "      <th>bbox_bottom_y</th>\n",
       "      <th>landmark_0_x</th>\n",
       "      <th>landmark_0_y</th>\n",
       "      <th>landmark_1_x</th>\n",
       "      <th>landmark_1_y</th>\n",
       "      <th>...</th>\n",
       "      <th>landmark_63_x</th>\n",
       "      <th>landmark_63_y</th>\n",
       "      <th>landmark_64_x</th>\n",
       "      <th>landmark_64_y</th>\n",
       "      <th>landmark_65_x</th>\n",
       "      <th>landmark_65_y</th>\n",
       "      <th>landmark_66_x</th>\n",
       "      <th>landmark_66_y</th>\n",
       "      <th>landmark_67_x</th>\n",
       "      <th>landmark_67_y</th>\n",
       "    </tr>\n",
       "    <tr>\n",
       "      <th>time</th>\n",
       "      <th></th>\n",
       "      <th></th>\n",
       "      <th></th>\n",
       "      <th></th>\n",
       "      <th></th>\n",
       "      <th></th>\n",
       "      <th></th>\n",
       "      <th></th>\n",
       "      <th></th>\n",
       "      <th></th>\n",
       "      <th></th>\n",
       "      <th></th>\n",
       "      <th></th>\n",
       "      <th></th>\n",
       "      <th></th>\n",
       "      <th></th>\n",
       "      <th></th>\n",
       "      <th></th>\n",
       "      <th></th>\n",
       "      <th></th>\n",
       "      <th></th>\n",
       "    </tr>\n",
       "  </thead>\n",
       "  <tbody>\n",
       "    <tr>\n",
       "      <th>0.00</th>\n",
       "      <td>0</td>\n",
       "      <td>0.0</td>\n",
       "      <td>709.020081</td>\n",
       "      <td>159.118134</td>\n",
       "      <td>1263.001953</td>\n",
       "      <td>990.679565</td>\n",
       "      <td>695.0</td>\n",
       "      <td>506.0</td>\n",
       "      <td>706.0</td>\n",
       "      <td>585.0</td>\n",
       "      <td>...</td>\n",
       "      <td>1045.0</td>\n",
       "      <td>761.0</td>\n",
       "      <td>1112.0</td>\n",
       "      <td>761.0</td>\n",
       "      <td>1046.0</td>\n",
       "      <td>762.0</td>\n",
       "      <td>1016.0</td>\n",
       "      <td>769.0</td>\n",
       "      <td>982.0</td>\n",
       "      <td>770.0</td>\n",
       "    </tr>\n",
       "    <tr>\n",
       "      <th>0.01</th>\n",
       "      <td>1</td>\n",
       "      <td>1.0</td>\n",
       "      <td>708.647461</td>\n",
       "      <td>154.528137</td>\n",
       "      <td>1261.656494</td>\n",
       "      <td>993.035950</td>\n",
       "      <td>701.0</td>\n",
       "      <td>506.0</td>\n",
       "      <td>708.0</td>\n",
       "      <td>592.0</td>\n",
       "      <td>...</td>\n",
       "      <td>1044.0</td>\n",
       "      <td>761.0</td>\n",
       "      <td>1111.0</td>\n",
       "      <td>761.0</td>\n",
       "      <td>1045.0</td>\n",
       "      <td>762.0</td>\n",
       "      <td>1015.0</td>\n",
       "      <td>768.0</td>\n",
       "      <td>981.0</td>\n",
       "      <td>768.0</td>\n",
       "    </tr>\n",
       "    <tr>\n",
       "      <th>0.02</th>\n",
       "      <td>2</td>\n",
       "      <td>2.0</td>\n",
       "      <td>707.271606</td>\n",
       "      <td>156.397766</td>\n",
       "      <td>1261.883911</td>\n",
       "      <td>993.543884</td>\n",
       "      <td>700.0</td>\n",
       "      <td>505.0</td>\n",
       "      <td>707.0</td>\n",
       "      <td>584.0</td>\n",
       "      <td>...</td>\n",
       "      <td>1044.0</td>\n",
       "      <td>762.0</td>\n",
       "      <td>1111.0</td>\n",
       "      <td>762.0</td>\n",
       "      <td>1044.0</td>\n",
       "      <td>763.0</td>\n",
       "      <td>1015.0</td>\n",
       "      <td>769.0</td>\n",
       "      <td>980.0</td>\n",
       "      <td>770.0</td>\n",
       "    </tr>\n",
       "    <tr>\n",
       "      <th>0.03</th>\n",
       "      <td>3</td>\n",
       "      <td>3.0</td>\n",
       "      <td>707.462769</td>\n",
       "      <td>153.110168</td>\n",
       "      <td>1261.657227</td>\n",
       "      <td>992.971375</td>\n",
       "      <td>700.0</td>\n",
       "      <td>505.0</td>\n",
       "      <td>708.0</td>\n",
       "      <td>591.0</td>\n",
       "      <td>...</td>\n",
       "      <td>1044.0</td>\n",
       "      <td>761.0</td>\n",
       "      <td>1112.0</td>\n",
       "      <td>761.0</td>\n",
       "      <td>1045.0</td>\n",
       "      <td>761.0</td>\n",
       "      <td>1016.0</td>\n",
       "      <td>768.0</td>\n",
       "      <td>982.0</td>\n",
       "      <td>769.0</td>\n",
       "    </tr>\n",
       "    <tr>\n",
       "      <th>0.04</th>\n",
       "      <td>4</td>\n",
       "      <td>4.0</td>\n",
       "      <td>709.342712</td>\n",
       "      <td>160.646057</td>\n",
       "      <td>1259.708740</td>\n",
       "      <td>990.404114</td>\n",
       "      <td>694.0</td>\n",
       "      <td>505.0</td>\n",
       "      <td>706.0</td>\n",
       "      <td>584.0</td>\n",
       "      <td>...</td>\n",
       "      <td>1043.0</td>\n",
       "      <td>762.0</td>\n",
       "      <td>1110.0</td>\n",
       "      <td>762.0</td>\n",
       "      <td>1044.0</td>\n",
       "      <td>762.0</td>\n",
       "      <td>1014.0</td>\n",
       "      <td>769.0</td>\n",
       "      <td>981.0</td>\n",
       "      <td>769.0</td>\n",
       "    </tr>\n",
       "    <tr>\n",
       "      <th>...</th>\n",
       "      <td>...</td>\n",
       "      <td>...</td>\n",
       "      <td>...</td>\n",
       "      <td>...</td>\n",
       "      <td>...</td>\n",
       "      <td>...</td>\n",
       "      <td>...</td>\n",
       "      <td>...</td>\n",
       "      <td>...</td>\n",
       "      <td>...</td>\n",
       "      <td>...</td>\n",
       "      <td>...</td>\n",
       "      <td>...</td>\n",
       "      <td>...</td>\n",
       "      <td>...</td>\n",
       "      <td>...</td>\n",
       "      <td>...</td>\n",
       "      <td>...</td>\n",
       "      <td>...</td>\n",
       "      <td>...</td>\n",
       "      <td>...</td>\n",
       "    </tr>\n",
       "    <tr>\n",
       "      <th>27.35</th>\n",
       "      <td>2735</td>\n",
       "      <td>2735.0</td>\n",
       "      <td>711.362305</td>\n",
       "      <td>147.687866</td>\n",
       "      <td>1269.404541</td>\n",
       "      <td>970.957764</td>\n",
       "      <td>695.0</td>\n",
       "      <td>502.0</td>\n",
       "      <td>709.0</td>\n",
       "      <td>589.0</td>\n",
       "      <td>...</td>\n",
       "      <td>1055.0</td>\n",
       "      <td>732.0</td>\n",
       "      <td>1129.0</td>\n",
       "      <td>734.0</td>\n",
       "      <td>1056.0</td>\n",
       "      <td>725.0</td>\n",
       "      <td>1026.0</td>\n",
       "      <td>734.0</td>\n",
       "      <td>998.0</td>\n",
       "      <td>736.0</td>\n",
       "    </tr>\n",
       "    <tr>\n",
       "      <th>27.36</th>\n",
       "      <td>2736</td>\n",
       "      <td>2736.0</td>\n",
       "      <td>711.455933</td>\n",
       "      <td>150.669189</td>\n",
       "      <td>1269.526123</td>\n",
       "      <td>970.105103</td>\n",
       "      <td>696.0</td>\n",
       "      <td>502.0</td>\n",
       "      <td>711.0</td>\n",
       "      <td>589.0</td>\n",
       "      <td>...</td>\n",
       "      <td>1064.0</td>\n",
       "      <td>726.0</td>\n",
       "      <td>1130.0</td>\n",
       "      <td>733.0</td>\n",
       "      <td>1064.0</td>\n",
       "      <td>725.0</td>\n",
       "      <td>1028.0</td>\n",
       "      <td>734.0</td>\n",
       "      <td>999.0</td>\n",
       "      <td>736.0</td>\n",
       "    </tr>\n",
       "    <tr>\n",
       "      <th>27.37</th>\n",
       "      <td>2737</td>\n",
       "      <td>2737.0</td>\n",
       "      <td>710.558716</td>\n",
       "      <td>150.112610</td>\n",
       "      <td>1270.681274</td>\n",
       "      <td>969.716980</td>\n",
       "      <td>696.0</td>\n",
       "      <td>500.0</td>\n",
       "      <td>710.0</td>\n",
       "      <td>587.0</td>\n",
       "      <td>...</td>\n",
       "      <td>1056.0</td>\n",
       "      <td>726.0</td>\n",
       "      <td>1130.0</td>\n",
       "      <td>733.0</td>\n",
       "      <td>1063.0</td>\n",
       "      <td>726.0</td>\n",
       "      <td>1026.0</td>\n",
       "      <td>734.0</td>\n",
       "      <td>990.0</td>\n",
       "      <td>735.0</td>\n",
       "    </tr>\n",
       "    <tr>\n",
       "      <th>27.38</th>\n",
       "      <td>2738</td>\n",
       "      <td>2738.0</td>\n",
       "      <td>711.772522</td>\n",
       "      <td>149.862244</td>\n",
       "      <td>1270.540771</td>\n",
       "      <td>968.332092</td>\n",
       "      <td>697.0</td>\n",
       "      <td>501.0</td>\n",
       "      <td>711.0</td>\n",
       "      <td>587.0</td>\n",
       "      <td>...</td>\n",
       "      <td>1055.0</td>\n",
       "      <td>732.0</td>\n",
       "      <td>1129.0</td>\n",
       "      <td>733.0</td>\n",
       "      <td>1056.0</td>\n",
       "      <td>725.0</td>\n",
       "      <td>1026.0</td>\n",
       "      <td>733.0</td>\n",
       "      <td>990.0</td>\n",
       "      <td>734.0</td>\n",
       "    </tr>\n",
       "    <tr>\n",
       "      <th>27.39</th>\n",
       "      <td>2739</td>\n",
       "      <td>2739.0</td>\n",
       "      <td>711.103088</td>\n",
       "      <td>150.852814</td>\n",
       "      <td>1270.094971</td>\n",
       "      <td>970.464722</td>\n",
       "      <td>696.0</td>\n",
       "      <td>502.0</td>\n",
       "      <td>710.0</td>\n",
       "      <td>589.0</td>\n",
       "      <td>...</td>\n",
       "      <td>1056.0</td>\n",
       "      <td>727.0</td>\n",
       "      <td>1129.0</td>\n",
       "      <td>734.0</td>\n",
       "      <td>1056.0</td>\n",
       "      <td>726.0</td>\n",
       "      <td>1026.0</td>\n",
       "      <td>734.0</td>\n",
       "      <td>990.0</td>\n",
       "      <td>735.0</td>\n",
       "    </tr>\n",
       "  </tbody>\n",
       "</table>\n",
       "<p>2740 rows × 142 columns</p>\n",
       "</div>"
      ],
      "text/plain": [
       "       Unnamed: 0  Frame_number  bbox_top_x  bbox_top_y  bbox_bottom_x  \\\n",
       "time                                                                     \n",
       "0.00            0           0.0  709.020081  159.118134    1263.001953   \n",
       "0.01            1           1.0  708.647461  154.528137    1261.656494   \n",
       "0.02            2           2.0  707.271606  156.397766    1261.883911   \n",
       "0.03            3           3.0  707.462769  153.110168    1261.657227   \n",
       "0.04            4           4.0  709.342712  160.646057    1259.708740   \n",
       "...           ...           ...         ...         ...            ...   \n",
       "27.35        2735        2735.0  711.362305  147.687866    1269.404541   \n",
       "27.36        2736        2736.0  711.455933  150.669189    1269.526123   \n",
       "27.37        2737        2737.0  710.558716  150.112610    1270.681274   \n",
       "27.38        2738        2738.0  711.772522  149.862244    1270.540771   \n",
       "27.39        2739        2739.0  711.103088  150.852814    1270.094971   \n",
       "\n",
       "       bbox_bottom_y  landmark_0_x  landmark_0_y  landmark_1_x  landmark_1_y  \\\n",
       "time                                                                           \n",
       "0.00      990.679565         695.0         506.0         706.0         585.0   \n",
       "0.01      993.035950         701.0         506.0         708.0         592.0   \n",
       "0.02      993.543884         700.0         505.0         707.0         584.0   \n",
       "0.03      992.971375         700.0         505.0         708.0         591.0   \n",
       "0.04      990.404114         694.0         505.0         706.0         584.0   \n",
       "...              ...           ...           ...           ...           ...   \n",
       "27.35     970.957764         695.0         502.0         709.0         589.0   \n",
       "27.36     970.105103         696.0         502.0         711.0         589.0   \n",
       "27.37     969.716980         696.0         500.0         710.0         587.0   \n",
       "27.38     968.332092         697.0         501.0         711.0         587.0   \n",
       "27.39     970.464722         696.0         502.0         710.0         589.0   \n",
       "\n",
       "       ...  landmark_63_x  landmark_63_y  landmark_64_x  landmark_64_y  \\\n",
       "time   ...                                                               \n",
       "0.00   ...         1045.0          761.0         1112.0          761.0   \n",
       "0.01   ...         1044.0          761.0         1111.0          761.0   \n",
       "0.02   ...         1044.0          762.0         1111.0          762.0   \n",
       "0.03   ...         1044.0          761.0         1112.0          761.0   \n",
       "0.04   ...         1043.0          762.0         1110.0          762.0   \n",
       "...    ...            ...            ...            ...            ...   \n",
       "27.35  ...         1055.0          732.0         1129.0          734.0   \n",
       "27.36  ...         1064.0          726.0         1130.0          733.0   \n",
       "27.37  ...         1056.0          726.0         1130.0          733.0   \n",
       "27.38  ...         1055.0          732.0         1129.0          733.0   \n",
       "27.39  ...         1056.0          727.0         1129.0          734.0   \n",
       "\n",
       "       landmark_65_x  landmark_65_y  landmark_66_x  landmark_66_y  \\\n",
       "time                                                                \n",
       "0.00          1046.0          762.0         1016.0          769.0   \n",
       "0.01          1045.0          762.0         1015.0          768.0   \n",
       "0.02          1044.0          763.0         1015.0          769.0   \n",
       "0.03          1045.0          761.0         1016.0          768.0   \n",
       "0.04          1044.0          762.0         1014.0          769.0   \n",
       "...              ...            ...            ...            ...   \n",
       "27.35         1056.0          725.0         1026.0          734.0   \n",
       "27.36         1064.0          725.0         1028.0          734.0   \n",
       "27.37         1063.0          726.0         1026.0          734.0   \n",
       "27.38         1056.0          725.0         1026.0          733.0   \n",
       "27.39         1056.0          726.0         1026.0          734.0   \n",
       "\n",
       "       landmark_67_x  landmark_67_y  \n",
       "time                                 \n",
       "0.00           982.0          770.0  \n",
       "0.01           981.0          768.0  \n",
       "0.02           980.0          770.0  \n",
       "0.03           982.0          769.0  \n",
       "0.04           981.0          769.0  \n",
       "...              ...            ...  \n",
       "27.35          998.0          736.0  \n",
       "27.36          999.0          736.0  \n",
       "27.37          990.0          735.0  \n",
       "27.38          990.0          734.0  \n",
       "27.39          990.0          735.0  \n",
       "\n",
       "[2740 rows x 142 columns]"
      ]
     },
     "execution_count": 7,
     "metadata": {},
     "output_type": "execute_result"
    }
   ],
   "source": [
    "kin = import_kin('subject1_smile_1_landmarks.csv')\n",
    "kin"
   ]
  },
  {
   "cell_type": "markdown",
   "metadata": {},
   "source": [
    "## Characteristics"
   ]
  },
  {
   "cell_type": "code",
   "execution_count": 8,
   "metadata": {},
   "outputs": [],
   "source": [
    "def print_char_emg(df, fs = fs):\n",
    "    t_t_emg = df['time'].iloc[-1]\n",
    "    N_samples = int(fs*t_t_emg)\n",
    "\n",
    "    char = {\n",
    "      \"seconds\": t_t_emg,\n",
    "      \"N\": N_samples,\n",
    "      \"fs\": fs\n",
    "    }\n",
    "    intro = \"EMG data:\"+\"\\n\"+\"%s seconds long with a total of %s samples at %s Hz.\"%(t_t_emg,N_samples,fs)\n",
    "    print(intro)\n",
    "    \n",
    "def print_char_kin(kin, fps = fps):\n",
    "    t_t_frames = kin['Frame_number'].iloc[-1]/100\n",
    "    N_frames = int(fps*t_t_frames)\n",
    "\n",
    "    char = {\n",
    "      \"seconds\": t_t_frames,\n",
    "      \"N\": N_frames,\n",
    "      \"fps\": fps\n",
    "    }\n",
    "    intro = \"Kinematic data:\"+\"\\n\"+\"%s seconds long with a total of %s frames at %s Hz.\"%(t_t_frames,N_frames,fps)\n",
    "    print(intro)"
   ]
  },
  {
   "cell_type": "markdown",
   "metadata": {},
   "source": [
    "## Call and Assign variables for EMG and convert to microV "
   ]
  },
  {
   "cell_type": "code",
   "execution_count": 9,
   "metadata": {},
   "outputs": [],
   "source": [
    "def set_params_emg(df, mag = 6):\n",
    "    for i in range(1,5):\n",
    "        df[f'a{i}'] = df[f'a{i}']*(10**mag)\n",
    "        df[f'b{i}'] = df[f'b{i}']*(10**mag)\n",
    "    return df"
   ]
  },
  {
   "cell_type": "markdown",
   "metadata": {},
   "source": [
    "## Plot Raw EMG Data"
   ]
  },
  {
   "cell_type": "code",
   "execution_count": 10,
   "metadata": {},
   "outputs": [],
   "source": [
    "def plot_raw_emg(df):\n",
    "    for i in range(1,5):\n",
    "        fig, ax = plt.subplots(1, 2, figsize=(8, 4))\n",
    "        ax[0].plot(df[f'a{i}'] , color='blue',label = '%s'%l)\n",
    "        ax[0].set_title(\"Raw Signal:\" + \"\\n\" + \"%s\"%f'm{i}')\n",
    "        ax[0].set_ylabel(\"Voltage (microV)\")\n",
    "        ax[0].set_xlabel(\"time(s)\")\n",
    "        ax[0].grid()\n",
    "        ax[0].autoscale()\n",
    "        leg = ax[0].legend()\n",
    "\n",
    "        ax[1].plot(df[f'b{i}'] , color='green', label = '%s'%r)\n",
    "        ax[1].set_title(\"Raw Signal:\" + \"\\n\" + \"%s\"%f'm{i}')\n",
    "        ax[1].set_ylabel(\"Voltage (microV)\")\n",
    "        ax[1].set_xlabel(\"time(s)\")\n",
    "        ax[1].grid()\n",
    "        ax[1].autoscale()\n",
    "        leg = ax[1].legend()"
   ]
  },
  {
   "cell_type": "code",
   "execution_count": 11,
   "metadata": {},
   "outputs": [
    {
     "data": {
      "image/png": "[encoded data removed]",
      "text/plain": [
       "<Figure size 576x288 with 2 Axes>"
      ]
     },
     "metadata": {
      "needs_background": "light"
     },
     "output_type": "display_data"
    },
    {
     "data": {
      "image/png": "[encoded data removed]",
      "text/plain": [
       "<Figure size 576x288 with 2 Axes>"
      ]
     },
     "metadata": {
      "needs_background": "light"
     },
     "output_type": "display_data"
    },
    {
     "data": {
      "image/png": "[encoded data removed]",
      "text/plain": [
       "<Figure size 576x288 with 2 Axes>"
      ]
     },
     "metadata": {
      "needs_background": "light"
     },
     "output_type": "display_data"
    },
    {
     "data": {
      "image/png": "[encoded data removed]",
      "text/plain": [
       "<Figure size 576x288 with 2 Axes>"
      ]
     },
     "metadata": {
      "needs_background": "light"
     },
     "output_type": "display_data"
    }
   ],
   "source": [
    "plot_raw_emg(emg)"
   ]
  },
  {
   "cell_type": "markdown",
   "metadata": {},
   "source": [
    "## Design Bandpass"
   ]
  },
  {
   "cell_type": "code",
   "execution_count": 12,
   "metadata": {},
   "outputs": [],
   "source": [
    "def bandpass_create(low_band = 3, high_band = 400, order_bp = 2, fs = fs/2):\n",
    "    z1, w1 = sp.signal.bessel(order_bp, [low_band,high_band], btype='bandpass',analog = False, output= 'ba', fs = fs)\n",
    "    return z1, w1, low_band, high_band"
   ]
  },
  {
   "cell_type": "code",
   "execution_count": 13,
   "metadata": {},
   "outputs": [],
   "source": [
    "z1, w1, low_band, high_band = bandpass_create()"
   ]
  },
  {
   "cell_type": "code",
   "execution_count": 14,
   "metadata": {},
   "outputs": [],
   "source": [
    "def bandpass_bode(z1 ,w1,low_band,high_band, order_bp = 2,fs = 2000):\n",
    "    sys_bp = signal.dlti(z1, w1, dt = 1/fs)\n",
    "    w_bp, mag_bp, phase_bp = signal.dbode(sys_bp, w = np.logspace(-2,3,100)*2*np.pi)\n",
    "    w_bp, mag_bp, phase_bp = sys_bp.bode(w = (np.logspace(-2,2.7,100)*2*np.pi)/(fs/2))\n",
    "    \n",
    "    low_cut = low_band\n",
    "    high_cut = high_band\n",
    "\n",
    "    freq_bp = w_bp/(2*np.pi)\n",
    "\n",
    "    fig, ax = plt.subplots(2,1,figsize = (6,8))\n",
    "    ax[0].semilogx(freq_bp, mag_bp)  \n",
    "    ax[0].set_title(r'Bode Diagram:'+ '\\n' + '%snd Order %s and %s Hz BP'%(order_bp,low_band,high_band), fontsize=16)\n",
    "    ax[0].set_xlabel('Frequency (Hz)')\n",
    "    ax[0].set_ylabel('Magnitude (dB)')\n",
    "    #ax[0].autoscale()\n",
    "    ax[0].grid()\n",
    "\n",
    "    ax[1].semilogx(freq_bp, phase_bp) \n",
    "    ax[1].set_ylabel(\"Phase (degree)\")\n",
    "    ax[1].set_xlabel(\"Freq (hz)\")\n",
    "    #ax[1].autoscale()\n",
    "    ax[1].grid()\n",
    "    plt.show()"
   ]
  },
  {
   "cell_type": "code",
   "execution_count": 15,
   "metadata": {},
   "outputs": [
    {
     "name": "stderr",
     "output_type": "stream",
     "text": [
      "C:\\Anaconda\\envs\\py36\\lib\\site-packages\\scipy\\signal\\ltisys.py:3837: RuntimeWarning: divide by zero encountered in log10\n",
      "  mag = 20.0 * numpy.log10(abs(y))\n"
     ]
    },
    {
     "data": {
      "image/png": "[encoded data removed]",
      "text/plain": [
       "<Figure size 432x576 with 2 Axes>"
      ]
     },
     "metadata": {
      "needs_background": "light"
     },
     "output_type": "display_data"
    }
   ],
   "source": [
    "bandpass_bode(z1, w1, low_band, high_band)"
   ]
  },
  {
   "cell_type": "code",
   "execution_count": 16,
   "metadata": {},
   "outputs": [],
   "source": [
    "def bandpass_apply(df, z1, w1):\n",
    "    for i in range(1,5):\n",
    "        df[f'a{i}'] = sp.signal.filtfilt(z1,w1,df[f'a{i}'], padlen=0)\n",
    "        df[f'b{i}'] = sp.signal.filtfilt(z1,w1,df[f'b{i}'], padlen=0)\n",
    "    return df"
   ]
  },
  {
   "cell_type": "code",
   "execution_count": 17,
   "metadata": {},
   "outputs": [],
   "source": [
    "banded = bandpass_apply(emg,z1,w1)"
   ]
  },
  {
   "cell_type": "code",
   "execution_count": 18,
   "metadata": {},
   "outputs": [],
   "source": [
    "def plot_bandpassed(df):\n",
    "    for i in range(1,5):\n",
    "        fig, ax = plt.subplots(1, 2, figsize=(8, 4))\n",
    "        ax[0].plot(df[f'a{i}'] , color='blue',label = '%s'%l)\n",
    "        ax[0].set_title(\"Rectified Signal:\" + \"\\n\" + \"%s\"%f'm{i}')\n",
    "        ax[0].set_ylabel(\"Voltage (microV)\")\n",
    "        ax[0].set_xlabel(\"time(s)\")\n",
    "        ax[0].grid()\n",
    "        ax[0].autoscale()\n",
    "        leg = ax[0].legend()\n",
    "\n",
    "        ax[1].plot(df[f'b{i}'] , color='green', label = '%s'%r)\n",
    "        ax[1].set_title(\"Rectified Signal:\" + \"\\n\" + \"%s\"%f'm{i}')\n",
    "        ax[1].set_ylabel(\"Voltage (microV)\")\n",
    "        ax[1].set_xlabel(\"time(s)\")\n",
    "        ax[1].grid()\n",
    "        ax[1].autoscale()\n",
    "        leg = ax[1].legend()"
   ]
  },
  {
   "cell_type": "markdown",
   "metadata": {},
   "source": [
    "## Rectify signal"
   ]
  },
  {
   "cell_type": "code",
   "execution_count": 20,
   "metadata": {},
   "outputs": [],
   "source": [
    "def rectify(df):\n",
    "    for i in range(1,5):\n",
    "        df[f'a{i}'] = np.abs(df[f'a{i}'])\n",
    "        df[f'b{i}'] = np.abs(df[f'b{i}'])\n",
    "    return df"
   ]
  },
  {
   "cell_type": "code",
   "execution_count": 21,
   "metadata": {},
   "outputs": [],
   "source": [
    "rectified = rectify(banded)"
   ]
  },
  {
   "cell_type": "code",
   "execution_count": 22,
   "metadata": {},
   "outputs": [],
   "source": [
    "def plot_rectified(df):\n",
    "    for i in range(1,5):\n",
    "        fig, ax = plt.subplots(1, 2, figsize=(8, 4))\n",
    "        ax[0].plot(df[f'a{i}'] , color='blue',label = '%s'%l)\n",
    "        ax[0].set_title(\"Rectified Signal:\" + \"\\n\" + \"%s\"%f'm{i}')\n",
    "        ax[0].set_ylabel(\"Voltage (microV)\")\n",
    "        ax[0].set_xlabel(\"time(s)\")\n",
    "        ax[0].grid()\n",
    "        ax[0].autoscale()\n",
    "        leg = ax[0].legend()\n",
    "\n",
    "        ax[1].plot(df[f'b{i}'] , color='green', label = '%s'%r)\n",
    "        ax[1].set_title(\"Rectified Signal:\" + \"\\n\" + \"%s\"%f'm{i}')\n",
    "        ax[1].set_ylabel(\"Voltage (microV)\")\n",
    "        ax[1].set_xlabel(\"time(s)\")\n",
    "        ax[1].grid()\n",
    "        ax[1].autoscale()\n",
    "        leg = ax[1].legend()"
   ]
  },
  {
   "cell_type": "code",
   "execution_count": 23,
   "metadata": {},
   "outputs": [
    {
     "data": {
      "image/png": "[encoded data removed]",
      "text/plain": [
       "<Figure size 576x288 with 2 Axes>"
      ]
     },
     "metadata": {
      "needs_background": "light"
     },
     "output_type": "display_data"
    },
    {
     "data": {
      "image/png": "[encoded data removed]",
      "text/plain": [
       "<Figure size 576x288 with 2 Axes>"
      ]
     },
     "metadata": {
      "needs_background": "light"
     },
     "output_type": "display_data"
    },
    {
     "data": {
      "image/png": "[encoded data removed]",
      "text/plain": [
       "<Figure size 576x288 with 2 Axes>"
      ]
     },
     "metadata": {
      "needs_background": "light"
     },
     "output_type": "display_data"
    },
    {
     "data": {
      "image/png": "[encoded data removed]",
      "text/plain": [
       "<Figure size 576x288 with 2 Axes>"
      ]
     },
     "metadata": {
      "needs_background": "light"
     },
     "output_type": "display_data"
    }
   ],
   "source": [
    "plot_rectified(rectified)"
   ]
  },
  {
   "cell_type": "markdown",
   "metadata": {},
   "source": [
    "## Linear Envelope"
   ]
  },
  {
   "cell_type": "code",
   "execution_count": 24,
   "metadata": {},
   "outputs": [],
   "source": [
    "def linear_envelope(df, window_size = 100):\n",
    "    window = np.ones(window_size)/float(window_size)\n",
    "    for i in range(1,5):\n",
    "        df[f'a{i}'] = np.sqrt(np.convolve(df[f'a{i}']**2,window,'same'))\n",
    "        df[f'b{i}'] = np.sqrt(np.convolve(df[f'b{i}']**2,window,'same'))\n",
    "    return df"
   ]
  },
  {
   "cell_type": "code",
   "execution_count": 25,
   "metadata": {},
   "outputs": [],
   "source": [
    "def plot_rms(df):\n",
    "    for i in range(1,5):\n",
    "        fig, ax = plt.subplots(2,1,figsize = (8,6))\n",
    "        ax[0].plot(df[f'a{i}'], label = '%s'%l)\n",
    "        ax[0].set_title(r'RMS:'+ '\\n' + '%s'%(f'm{i}'), fontsize=16)\n",
    "        ax[0].set_xlabel('time(s)')\n",
    "        ax[0].set_ylabel('EMG (microV)')\n",
    "        ax[0].autoscale()\n",
    "        ax[0].grid()\n",
    "        leg = ax[0].legend()\n",
    "\n",
    "        ax[1].plot(df[f'b{i}'],'g',label = '%s'%r)\n",
    "        ax[1].set_ylabel(\"V (microV)\")\n",
    "        ax[1].set_xlabel(\"time (s)\")\n",
    "        ax[1].autoscale()\n",
    "        ax[1].grid()\n",
    "        leg = ax[1].legend()"
   ]
  },
  {
   "cell_type": "code",
   "execution_count": 26,
   "metadata": {},
   "outputs": [],
   "source": [
    "## Full EMG Processing\n",
    "\n",
    "def process_emg(df):\n",
    "    for i in range(1,5):\n",
    "        df[f'a{i}'] = linear_envelope(rectify(bandpass_apply(df)))[f'a{i}']\n",
    "        df[f'b{i}'] = linear_envelope(rectify(bandpass_apply(df)))[f'b{i}']\n",
    "    df\n",
    "    return df "
   ]
  },
  {
   "cell_type": "code",
   "execution_count": 27,
   "metadata": {},
   "outputs": [],
   "source": [
    "raw_emg = import_emg(path_emg)\n",
    "z1, w1, low_band, high_band = bandpass_create()"
   ]
  },
  {
   "cell_type": "code",
   "execution_count": 67,
   "metadata": {},
   "outputs": [],
   "source": [
    "banded = sp.signal.filtfilt(z1,w1,raw_emg, padlen=0)"
   ]
  },
  {
   "cell_type": "code",
   "execution_count": 68,
   "metadata": {},
   "outputs": [],
   "source": [
    "banded_df = pd.DataFrame(banded)"
   ]
  },
  {
   "cell_type": "code",
   "execution_count": 72,
   "metadata": {},
   "outputs": [
    {
     "data": {
      "text/html": [
       "<div>\n",
       "<style scoped>\n",
       "    .dataframe tbody tr th:only-of-type {\n",
       "        vertical-align: middle;\n",
       "    }\n",
       "\n",
       "    .dataframe tbody tr th {\n",
       "        vertical-align: top;\n",
       "    }\n",
       "\n",
       "    .dataframe thead th {\n",
       "        text-align: right;\n",
       "    }\n",
       "</style>\n",
       "<table border=\"1\" class=\"dataframe\">\n",
       "  <thead>\n",
       "    <tr style=\"text-align: right;\">\n",
       "      <th></th>\n",
       "      <th>a1</th>\n",
       "      <th>a2</th>\n",
       "      <th>a3</th>\n",
       "      <th>a4</th>\n",
       "      <th>b1</th>\n",
       "      <th>b2</th>\n",
       "      <th>b3</th>\n",
       "      <th>b4</th>\n",
       "    </tr>\n",
       "    <tr>\n",
       "      <th>time</th>\n",
       "      <th></th>\n",
       "      <th></th>\n",
       "      <th></th>\n",
       "      <th></th>\n",
       "      <th></th>\n",
       "      <th></th>\n",
       "      <th></th>\n",
       "      <th></th>\n",
       "    </tr>\n",
       "  </thead>\n",
       "  <tbody>\n",
       "    <tr>\n",
       "      <th>0.0000</th>\n",
       "      <td>0.000003</td>\n",
       "      <td>0.000005</td>\n",
       "      <td>0.000004</td>\n",
       "      <td>0.000004</td>\n",
       "      <td>0.000003</td>\n",
       "      <td>0.000010</td>\n",
       "      <td>0.000002</td>\n",
       "      <td>0.000004</td>\n",
       "    </tr>\n",
       "    <tr>\n",
       "      <th>0.0005</th>\n",
       "      <td>0.000003</td>\n",
       "      <td>0.000005</td>\n",
       "      <td>0.000004</td>\n",
       "      <td>0.000004</td>\n",
       "      <td>0.000003</td>\n",
       "      <td>0.000010</td>\n",
       "      <td>0.000002</td>\n",
       "      <td>0.000004</td>\n",
       "    </tr>\n",
       "    <tr>\n",
       "      <th>0.0010</th>\n",
       "      <td>0.000003</td>\n",
       "      <td>0.000005</td>\n",
       "      <td>0.000004</td>\n",
       "      <td>0.000004</td>\n",
       "      <td>0.000003</td>\n",
       "      <td>0.000011</td>\n",
       "      <td>0.000002</td>\n",
       "      <td>0.000004</td>\n",
       "    </tr>\n",
       "    <tr>\n",
       "      <th>0.0015</th>\n",
       "      <td>0.000003</td>\n",
       "      <td>0.000005</td>\n",
       "      <td>0.000004</td>\n",
       "      <td>0.000004</td>\n",
       "      <td>0.000003</td>\n",
       "      <td>0.000011</td>\n",
       "      <td>0.000002</td>\n",
       "      <td>0.000004</td>\n",
       "    </tr>\n",
       "    <tr>\n",
       "      <th>0.0020</th>\n",
       "      <td>0.000003</td>\n",
       "      <td>0.000005</td>\n",
       "      <td>0.000004</td>\n",
       "      <td>0.000004</td>\n",
       "      <td>0.000003</td>\n",
       "      <td>0.000011</td>\n",
       "      <td>0.000002</td>\n",
       "      <td>0.000004</td>\n",
       "    </tr>\n",
       "  </tbody>\n",
       "</table>\n",
       "</div>"
      ],
      "text/plain": [
       "              a1        a2        a3        a4        b1        b2        b3  \\\n",
       "time                                                                           \n",
       "0.0000  0.000003  0.000005  0.000004  0.000004  0.000003  0.000010  0.000002   \n",
       "0.0005  0.000003  0.000005  0.000004  0.000004  0.000003  0.000010  0.000002   \n",
       "0.0010  0.000003  0.000005  0.000004  0.000004  0.000003  0.000011  0.000002   \n",
       "0.0015  0.000003  0.000005  0.000004  0.000004  0.000003  0.000011  0.000002   \n",
       "0.0020  0.000003  0.000005  0.000004  0.000004  0.000003  0.000011  0.000002   \n",
       "\n",
       "              b4  \n",
       "time              \n",
       "0.0000  0.000004  \n",
       "0.0005  0.000004  \n",
       "0.0010  0.000004  \n",
       "0.0015  0.000004  \n",
       "0.0020  0.000004  "
      ]
     },
     "execution_count": 72,
     "metadata": {},
     "output_type": "execute_result"
    }
   ],
   "source": [
    "raw_emg.head()"
   ]
  },
  {
   "cell_type": "code",
   "execution_count": 70,
   "metadata": {
    "scrolled": true
   },
   "outputs": [
    {
     "data": {
      "text/html": [
       "<div>\n",
       "<style scoped>\n",
       "    .dataframe tbody tr th:only-of-type {\n",
       "        vertical-align: middle;\n",
       "    }\n",
       "\n",
       "    .dataframe tbody tr th {\n",
       "        vertical-align: top;\n",
       "    }\n",
       "\n",
       "    .dataframe thead th {\n",
       "        text-align: right;\n",
       "    }\n",
       "</style>\n",
       "<table border=\"1\" class=\"dataframe\">\n",
       "  <thead>\n",
       "    <tr style=\"text-align: right;\">\n",
       "      <th></th>\n",
       "      <th>0</th>\n",
       "      <th>1</th>\n",
       "      <th>2</th>\n",
       "      <th>3</th>\n",
       "      <th>4</th>\n",
       "      <th>5</th>\n",
       "      <th>6</th>\n",
       "      <th>7</th>\n",
       "    </tr>\n",
       "  </thead>\n",
       "  <tbody>\n",
       "    <tr>\n",
       "      <th>0</th>\n",
       "      <td>0.000002</td>\n",
       "      <td>0.000003</td>\n",
       "      <td>0.000003</td>\n",
       "      <td>0.000001</td>\n",
       "      <td>0.000003</td>\n",
       "      <td>0.000006</td>\n",
       "      <td>0.000003</td>\n",
       "      <td>-1.473837e-19</td>\n",
       "    </tr>\n",
       "    <tr>\n",
       "      <th>1</th>\n",
       "      <td>0.000002</td>\n",
       "      <td>0.000003</td>\n",
       "      <td>0.000003</td>\n",
       "      <td>0.000001</td>\n",
       "      <td>0.000003</td>\n",
       "      <td>0.000006</td>\n",
       "      <td>0.000003</td>\n",
       "      <td>-1.520424e-19</td>\n",
       "    </tr>\n",
       "    <tr>\n",
       "      <th>2</th>\n",
       "      <td>0.000002</td>\n",
       "      <td>0.000003</td>\n",
       "      <td>0.000003</td>\n",
       "      <td>0.000001</td>\n",
       "      <td>0.000003</td>\n",
       "      <td>0.000006</td>\n",
       "      <td>0.000003</td>\n",
       "      <td>-1.569129e-19</td>\n",
       "    </tr>\n",
       "    <tr>\n",
       "      <th>3</th>\n",
       "      <td>0.000002</td>\n",
       "      <td>0.000003</td>\n",
       "      <td>0.000003</td>\n",
       "      <td>0.000001</td>\n",
       "      <td>0.000003</td>\n",
       "      <td>0.000007</td>\n",
       "      <td>0.000003</td>\n",
       "      <td>-1.598775e-19</td>\n",
       "    </tr>\n",
       "    <tr>\n",
       "      <th>4</th>\n",
       "      <td>0.000002</td>\n",
       "      <td>0.000003</td>\n",
       "      <td>0.000003</td>\n",
       "      <td>0.000001</td>\n",
       "      <td>0.000003</td>\n",
       "      <td>0.000007</td>\n",
       "      <td>0.000003</td>\n",
       "      <td>-1.605127e-19</td>\n",
       "    </tr>\n",
       "  </tbody>\n",
       "</table>\n",
       "</div>"
      ],
      "text/plain": [
       "          0         1         2         3         4         5         6  \\\n",
       "0  0.000002  0.000003  0.000003  0.000001  0.000003  0.000006  0.000003   \n",
       "1  0.000002  0.000003  0.000003  0.000001  0.000003  0.000006  0.000003   \n",
       "2  0.000002  0.000003  0.000003  0.000001  0.000003  0.000006  0.000003   \n",
       "3  0.000002  0.000003  0.000003  0.000001  0.000003  0.000007  0.000003   \n",
       "4  0.000002  0.000003  0.000003  0.000001  0.000003  0.000007  0.000003   \n",
       "\n",
       "              7  \n",
       "0 -1.473837e-19  \n",
       "1 -1.520424e-19  \n",
       "2 -1.569129e-19  \n",
       "3 -1.598775e-19  \n",
       "4 -1.605127e-19  "
      ]
     },
     "execution_count": 70,
     "metadata": {},
     "output_type": "execute_result"
    }
   ],
   "source": [
    "banded_df.head()"
   ]
  },
  {
   "cell_type": "code",
   "execution_count": 29,
   "metadata": {},
   "outputs": [],
   "source": [
    "rms = linear_envelope(rectified)"
   ]
  },
  {
   "cell_type": "code",
   "execution_count": 30,
   "metadata": {},
   "outputs": [
    {
     "data": {
      "text/plain": [
       "[<matplotlib.lines.Line2D at 0x14b1d6a8f28>]"
      ]
     },
     "execution_count": 30,
     "metadata": {},
     "output_type": "execute_result"
    },
    {
     "data": {
      "image/png": "[encoded data removed]",
      "text/plain": [
       "<Figure size 432x288 with 1 Axes>"
      ]
     },
     "metadata": {
      "needs_background": "light"
     },
     "output_type": "display_data"
    }
   ],
   "source": []
  },
  {
   "cell_type": "code",
   "execution_count": 31,
   "metadata": {},
   "outputs": [],
   "source": [
    "def plot_emg(df):\n",
    "    for i in range(1,5):        \n",
    "        fig, ax = plt.subplots()\n",
    "        ax.plot(df['time'], df[f'a{i}'], label = '%s'%l)\n",
    "        ax.plot(df['time'], df[f'b{i}'],'g',label = '%s'%r)\n",
    "        ax.set_title(r'Left vs. Right RMS: Smile' +'\\n'+'%s'%f'm{i}', fontsize=16)\n",
    "        ax.set_xlabel('time(s)')\n",
    "        ax.set_ylabel('Distance (px)')\n",
    "        ax.grid()\n",
    "        leg = ax.legend()"
   ]
  },
  {
   "cell_type": "code",
   "execution_count": 32,
   "metadata": {},
   "outputs": [],
   "source": [
    "def compare_to_rect(df,rect, window_size = 100, fs = 2000):\n",
    "    window = np.ones(window_size)/float(window_size)\n",
    "    r = \"Right\"\n",
    "    l = \"Left\"\n",
    "    \n",
    "    for idx in range(1,5):\n",
    "        fig, ax1 = plt.subplots()\n",
    "        color = 'tab:red'\n",
    "        ax1.set_xlabel('time (s)')\n",
    "        ax1.set_ylabel('EMG (microV)')\n",
    "        ax1.plot(df['time'], df[f'a{idx}'],label = 'Filtered', color = 'r')\n",
    "        ax1.set_title('RMS vs. Raw EMG:' +'\\n' + '%s'%f'a{i}')\n",
    "        ax1.grid()\n",
    "        leg1 = ax1.legend()\n",
    "\n",
    "        ax2 = ax1.twinx()  # instantiate a second axes that shares the same x-axis\n",
    "\n",
    "        color = 'tab:blue'\n",
    "        ax2.set_ylabel('Mouth (px)')  # we already handled the x-label with ax1\n",
    "        ax2.plot(df['time'], rect[f'a{idx}'],label = 'Rect', color = 'b', alpha = 0.2)\n",
    "        ax2.tick_params(axis='y', labelcolor='r')\n",
    "        leg2 = ax2.legend()\n",
    "\n",
    "        fig.tight_layout()  # otherwise the right y-label is slightly clipped\n",
    "        plt.show()"
   ]
  },
  {
   "cell_type": "code",
   "execution_count": 33,
   "metadata": {},
   "outputs": [],
   "source": [
    "def plot_rect(df,rect):\n",
    "    df = process_emg(df)\n",
    "    for i in range(1,5):        \n",
    "        fig, ax = plt.subplots()\n",
    "        ax.plot(df['time'], df[f'a{i}'], label = '%s'%'Final')\n",
    "        ax.plot(df['time'], rect[f'a{i}'],'g',label = '%s'%'Rect')\n",
    "        ax.set_title(r'Left vs. Right RMS: Smile' +'\\n'+'%s'%f'm{i}', fontsize=16)\n",
    "        ax.set_xlabel('time(s)')\n",
    "        ax.set_ylabel('Distance (px)')\n",
    "        ax.grid()\n",
    "        leg = ax.legend()"
   ]
  },
  {
   "cell_type": "markdown",
   "metadata": {},
   "source": [
    "## Power EMG"
   ]
  },
  {
   "cell_type": "code",
   "execution_count": 34,
   "metadata": {},
   "outputs": [],
   "source": [
    "def emg_power(df,fs = 2000):\n",
    "    t_t_emg = df['time'].iloc[-1]\n",
    "    N_samples = int(fs*t_t_emg)\n",
    "    for i in range(1,5):\n",
    "        df[f'a{i}'] = (df[f'a{i}']**2)/(2*N_samples+1)\n",
    "        df[f'b{i}'] = (df[f'a{i}']**2)/(2*N_samples+1)\n",
    "    Power = df\n",
    "    return Power"
   ]
  },
  {
   "cell_type": "markdown",
   "metadata": {},
   "source": [
    "## Introducing Kinematic Data - Low Pass"
   ]
  },
  {
   "cell_type": "code",
   "execution_count": 35,
   "metadata": {},
   "outputs": [],
   "source": [
    "def rawVert(df):\n",
    "    mouthFrame = df['Frame_number'] \n",
    "    \n",
    "    pos_top = df[['landmark_62_x', 'landmark_62_y']].to_numpy()\n",
    "    pos_bottom = df[['landmark_66_x', 'landmark_66_y']].to_numpy()\n",
    "    \n",
    "    dispVertical = np.linalg.norm(pos_top - pos_bottom, axis=1)\n",
    "    return dispVertical\n",
    "\n",
    "def rawHoriz(df):\n",
    "    mouthFrame = df['Frame_number'] \n",
    "    \n",
    "    pos_derecha = df[['landmark_51_x', 'landmark_51_y']].to_numpy()\n",
    "    pos_izquierda = df[['landmark_57_x', 'landmark_57_y']].to_numpy()\n",
    "    dispHorizontal = np.linalg.norm(pos_derecha - pos_izquierda, axis = 1)\n",
    "    \n",
    "    return dispHorizontal"
   ]
  },
  {
   "cell_type": "code",
   "execution_count": 36,
   "metadata": {},
   "outputs": [],
   "source": [
    "def filter_kin_create(low_pass_frames = 20, fps = 100, lp_order = 2):\n",
    "    z3, w3 = sp.signal.bessel(lp_order, Wn = low_pass_frames/ (fps / 2), btype = 'lowpass')\n",
    "    return z3, w3"
   ]
  },
  {
   "cell_type": "code",
   "execution_count": 37,
   "metadata": {
    "slideshow": {
     "slide_type": "-"
    }
   },
   "outputs": [],
   "source": [
    "def filterHoriz(df,z3, w3):\n",
    "#     filt_distanceVertical = sp.signal.filtfilt(z3, w3, distanceVertical)\n",
    "    dispHoriz = sp.signal.filtfilt(z3, w3, df)\n",
    "    return dispHoriz\n",
    "def filterVert(df,z3, w3):\n",
    "#     filt_distanceVertical = sp.signal.filtfilt(z3, w3, distanceVertical)\n",
    "    dispVert = sp.signal.filtfilt(z3, w3, df)\n",
    "    return dispVert"
   ]
  },
  {
   "cell_type": "code",
   "execution_count": 38,
   "metadata": {},
   "outputs": [],
   "source": [
    "def lowpass_bode(z3, w3, low_pass_frames = 20):\n",
    "    sys = signal.TransferFunction(z3, w3)\n",
    "    w, mag, phase = signal.bode(sys)\n",
    "\n",
    "    fig, ax = plt.subplots(2,1,figsize = (6,8))\n",
    "    ax[0].semilogx(w, mag)  \n",
    "    ax[0].set_title(r'Bode Diagram:'+ '\\n' + ' %s Hz 2nd Order Bessel LP'%low_pass_frames, fontsize=16)\n",
    "    ax[0].set_xlabel('Frequency (rad/s)')\n",
    "    ax[0].set_ylabel('Magnitude (dB)')\n",
    "    ax[0].autoscale()\n",
    "    ax[0].grid()\n",
    "\n",
    "    ax[1].semilogx(w, phase) \n",
    "    ax[1].set_ylabel(\"Phase (degree)\")\n",
    "    ax[1].set_xlabel(\"Frequency (rad/s)\")\n",
    "    ax[1].autoscale()\n",
    "    ax[1].grid()\n",
    "    plt.show()"
   ]
  },
  {
   "cell_type": "code",
   "execution_count": 39,
   "metadata": {},
   "outputs": [],
   "source": [
    "def compare_kin(df,raw, window_size = 100, fps = 100, t_low = 1, t_high = 27):\n",
    "    fig, ax = plt.subplots()\n",
    "    ax.plot(mouthFrame/fps, raw,'--b',label = \"Raw\" )\n",
    "    ax.plot(mouthFrame/fps, df,'--r',label = \"Filtered\")\n",
    "    ax.set_title(r'Raw vs Filtered Vertical Distance: Smile ', fontsize=16)\n",
    "    ax.set_xlabel('time(s)')\n",
    "    ax.set_ylabel('Distance (px)')\n",
    "    ax.grid()\n",
    "    leg = ax.legend()"
   ]
  },
  {
   "cell_type": "markdown",
   "metadata": {},
   "source": [
    "## Plotting RMS vs Landmarks (Mouth Horizontal)"
   ]
  },
  {
   "cell_type": "code",
   "execution_count": 40,
   "metadata": {
    "scrolled": true
   },
   "outputs": [],
   "source": [
    "def plot_emg_horiz(df,horiz,fps = 100):\n",
    "    for i in range(1,5):\n",
    "        fig, ax1 = plt.subplots()\n",
    "        color = 'tab:red'\n",
    "        ax1.set_xlabel('time (s)')\n",
    "        ax1.set_ylabel('EMG (microV)')\n",
    "        ax1.plot(df['time'], df[f'a{i}'],label = '%s'%m3)\n",
    "        ax1.set_title('RMS vs. Mouth Horizontal distance:' +'\\n' + '%s'%f'm{i}')\n",
    "        ax1.autoscale()\n",
    "        ax1.tick_params(axis='y')\n",
    "        ax1.grid()\n",
    "        leg1 = ax1.legend()\n",
    "\n",
    "        ax2 = ax1.twinx()  # instantiate a second axes that shares the same x-axis\n",
    "\n",
    "        color = 'tab:blue'\n",
    "        ax2.set_ylabel('Mouth (px)')  # we already handled the x-label with ax1\n",
    "        ax2.plot(mouthFrame/fps, horiz,'--o',label = 'Dist', color = 'r')\n",
    "        ax2.tick_params(axis='y', labelcolor='r')\n",
    "        leg2 = ax2.legend()"
   ]
  },
  {
   "cell_type": "markdown",
   "metadata": {},
   "source": [
    "z1, w1, low_band, high_band = bandpass_create()\n",
    "filtered = bandpass_apply(raw_emg)\n",
    "rectified = rectify(filtered)\n",
    "emg = linear_envelope(rectified)"
   ]
  },
  {
   "cell_type": "markdown",
   "metadata": {},
   "source": [
    "## Plot Power, RMS, and filtered Kinematic Data: Whole period (Mouth Horizontal)"
   ]
  },
  {
   "cell_type": "code",
   "execution_count": 41,
   "metadata": {},
   "outputs": [],
   "source": [
    "def plot_all(df,Power,kin):\n",
    "    for i in range(1,5):\n",
    "        fig, ax1 = plt.subplots()\n",
    "        color = 'tab:red'\n",
    "        ax1.set_xlabel('time (s)')\n",
    "        ax1.set_ylabel('EMG (microV)')\n",
    "        ax1.plot(df['time'], df[f'a{i}'],label = 'RMS', color = 'g')\n",
    "        ax1.set_title('RMS vs. Mouth Horizontal distance:' +'\\n' + '%s'%a3)\n",
    "#         ax1.tick_params(axis='y')\n",
    "        leg1 = ax1.legend()\n",
    "\n",
    "        ax2 = ax1.twinx()  # instantiate a second axes that shares the same x-axis\n",
    "\n",
    "        color = 'tab:blue'\n",
    "        ax2.set_ylabel('Mouth (px)')  # we already handled the x-label with ax1\n",
    "        ax2.plot(mouthFrame/fps, kin,'--o',label = 'Dist', color = 'r')\n",
    "        ax2.tick_params(axis='y', labelcolor='r')\n",
    "        leg2 = ax2.legend()\n",
    "\n",
    "        ax3 = ax1.twinx()  # instantiate a second axes that shares the same x-axis\n",
    "\n",
    "        color = 'tab:blue'\n",
    "        ax3.set_ylabel('Mouth (px)')  # we already handled the x-label with ax1\n",
    "        ax3.plot(Power['time'], Power[f'a{i}'], label = 'Power', color = 'b',alpha = 0.3)\n",
    "        ax3.tick_params(axis='y', labelcolor='r')\n",
    "        ax1.grid()\n",
    "        leg3 = ax3.legend()\n",
    "\n",
    "        fig.tight_layout()  # otherwise the right y-label is slightly clipped\n",
    "        plt.show()"
   ]
  },
  {
   "cell_type": "code",
   "execution_count": 42,
   "metadata": {},
   "outputs": [],
   "source": [
    "def find_thresholds(df):\n",
    "    threshold = 71\n",
    "    var1 = []\n",
    "    var2 = []\n",
    "    for i in range(len(df)): \n",
    "        if ((df[i] <= threshold) and (df[i-1] < threshold)):\n",
    "            var1.append(i)\n",
    "        if ((df[i-1] <= threshold) and (df[i] > threshold)):\n",
    "            var2.append(i)\n",
    "    return var1, var2"
   ]
  },
  {
   "cell_type": "code",
   "execution_count": 43,
   "metadata": {},
   "outputs": [
    {
     "ename": "NameError",
     "evalue": "name 'Horiz' is not defined",
     "output_type": "error",
     "traceback": [
      "\u001b[1;31m---------------------------------------------------------------------------\u001b[0m",
      "\u001b[1;31mNameError\u001b[0m                                 Traceback (most recent call last)",
      "\u001b[1;32m<ipython-input-43-c7c672340c7b>\u001b[0m in \u001b[0;36m<module>\u001b[1;34m\u001b[0m\n\u001b[1;32m----> 1\u001b[1;33m \u001b[0mvar1\u001b[0m\u001b[1;33m,\u001b[0m \u001b[0mvar2\u001b[0m \u001b[1;33m=\u001b[0m \u001b[0mfind_thresholds\u001b[0m\u001b[1;33m(\u001b[0m\u001b[0mHoriz\u001b[0m\u001b[1;33m)\u001b[0m\u001b[1;33m\u001b[0m\u001b[1;33m\u001b[0m\u001b[0m\n\u001b[0m",
      "\u001b[1;31mNameError\u001b[0m: name 'Horiz' is not defined"
     ]
    }
   ],
   "source": [
    "var1, var2 = find_thresholds(Horiz)"
   ]
  },
  {
   "cell_type": "code",
   "execution_count": null,
   "metadata": {},
   "outputs": [],
   "source": [
    "def vertical_displacement(df,var1,var2):\n",
    "    displacement = []\n",
    "    for i in range(len(var1)):\n",
    "        low_pos[i] = df[var1:var1+10].mean()\n",
    "        high_pos[i] = df[int((var2-var1)/2 + var1)-10:int((var2-var1)/2 + var1)+10].mean()\n",
    "        displacement.append(high_pos-low_pos)\n",
    "    return displacement"
   ]
  },
  {
   "cell_type": "code",
   "execution_count": null,
   "metadata": {
    "scrolled": false
   },
   "outputs": [],
   "source": [
    "v = vertical_displacement(df = Vert,var1 = var1,var2 = var2)"
   ]
  },
  {
   "cell_type": "markdown",
   "metadata": {},
   "source": [
    "distanceVertical_average = pd.DataFrame({'Displacement': distanceVertical_average})\n",
    "\n",
    "Power_average = pd.DataFrame({'Power': Power_average})\n",
    "  \n",
    "# the default behaviour is join='outer'\n",
    "# inner join\n",
    "  \n",
    "result = pd.concat([Power_average, distanceVertical_average], axis=1, join='inner')\n",
    "display(result)"
   ]
  },
  {
   "cell_type": "markdown",
   "metadata": {},
   "source": [
    "## WORKING"
   ]
  }
 ],
 "metadata": {
  "celltoolbar": "Slideshow",
  "kernelspec": {
   "display_name": "Python 3",
   "language": "python",
   "name": "python3"
  },
  "language_info": {
   "codemirror_mode": {
    "name": "ipython",
    "version": 3
   },
   "file_extension": ".py",
   "mimetype": "text/x-python",
   "name": "python",
   "nbconvert_exporter": "python",
   "pygments_lexer": "ipython3",
   "version": "3.6.10"
  }
 },
 "nbformat": 4,
 "nbformat_minor": 4
}
