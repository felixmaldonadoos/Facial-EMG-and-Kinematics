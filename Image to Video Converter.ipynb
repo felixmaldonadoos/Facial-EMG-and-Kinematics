{
 "cells": [
  {
   "cell_type": "code",
   "execution_count": 7,
   "metadata": {},
   "outputs": [],
   "source": [
    "import os\n",
    "from pathlib import Path\n",
    "import numpy as np\n",
    "import cv2\n",
    "cwd = os.getcwd()"
   ]
  },
  {
   "cell_type": "code",
   "execution_count": 8,
   "metadata": {},
   "outputs": [],
   "source": [
    "filename = 'C:\\\\Users\\\\felixmaldonado\\\\Documents\\\\data_mea\\\\run_pedro_1\\\\open_2\\\\pedro_open_2.avi'"
   ]
  },
  {
   "cell_type": "code",
   "execution_count": 9,
   "metadata": {},
   "outputs": [],
   "source": [
    "file_name = []\n",
    "index_of_image  = []\n",
    "\n",
    "for root, dirs, files in os.walk('C:\\\\Users\\\\felixmaldonado\\\\Documents\\\\data_mea\\\\run_pedro_1\\\\open_2'):\n",
    "    \n",
    "    for name in files:\n",
    "        if Path(name).suffix == '.tiff':\n",
    "            file_name.append(name)\n",
    "            index_image= name.split('_')[-1]\n",
    "            index_of_image.append(int(index_image.split('.')[0]))"
   ]
  },
  {
   "cell_type": "code",
   "execution_count": 10,
   "metadata": {},
   "outputs": [],
   "source": [
    "sorted_list = np.sort(index_of_image)\n",
    "index_of_sorted = []\n",
    "for idx in range(len(sorted_list)) : \n",
    "    index_of_sorted.append(np.where(index_of_image == sorted_list[idx])[0][0])"
   ]
  },
  {
   "cell_type": "code",
   "execution_count": 11,
   "metadata": {},
   "outputs": [],
   "source": [
    "# choose codec according to format needed\n",
    "#fourcc = cv2.VideoWriter_fourcc('H','2','6','4') \n",
    "fourcc = cv2.VideoWriter_fourcc(*'MJPG')\n",
    "video=cv2.VideoWriter(filename, fourcc, 100,(1920,1200), isColor = True)\n",
    "\n",
    "\n",
    "for j in range(len(file_name)):\n",
    "    img = cv2.imread(file_name[index_of_sorted[j]])\n",
    "    video.write(img)\n",
    "\n",
    "cv2.destroyAllWindows()\n",
    "video.release()"
   ]
  },
  {
   "cell_type": "code",
   "execution_count": null,
   "metadata": {},
   "outputs": [],
   "source": []
  }
 ],
 "metadata": {
  "kernelspec": {
   "display_name": "Python 3",
   "language": "python",
   "name": "python3"
  },
  "language_info": {
   "codemirror_mode": {
    "name": "ipython",
    "version": 3
   },
   "file_extension": ".py",
   "mimetype": "text/x-python",
   "name": "python",
   "nbconvert_exporter": "python",
   "pygments_lexer": "ipython3",
   "version": "3.6.10"
  }
 },
 "nbformat": 4,
 "nbformat_minor": 4
}
