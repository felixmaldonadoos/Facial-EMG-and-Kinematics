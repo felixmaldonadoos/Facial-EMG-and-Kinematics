{
 "cells": [
  {
   "cell_type": "code",
   "execution_count": 1,
   "metadata": {},
   "outputs": [],
   "source": [
    "import pandas as pd\n",
    "import matplotlib.pyplot as plt\n",
    "import numpy as np\n",
    "import scipy as sp\n",
    "from scipy import signal\n",
    "from scipy.fft import fft, fftfreq\n",
    "import pylab\n",
    "import numpy as np\n",
    "import matplotlib.pyplot as plt\n",
    "import matplotlib.patches as mpatches\n",
    "from sklearn.metrics import mean_squared_error"
   ]
  },
  {
   "cell_type": "markdown",
   "metadata": {},
   "source": [
    "## Import Data\n",
    "    Available paths: \n",
    "    \n",
    "    EMG DATA:\n",
    "        - subject1_open_5.xlsx XXX\n",
    "        - subject1_smile_1.xlsx Spike in right ocul.\n",
    "        - subject1_smile_4.xlsx Spike in right ocul.\n",
    "    FAME DATA:\n",
    "        - subject1_smile_1_landmarks.csv\n",
    "        - subject1_smile_4_landmarks.csv\n",
    "## Sensor Labels\n",
    "    EMG 1 = a; left side of face\n",
    "    EMG 2 = b; right side of face\n",
    "    Ch a-d = 1-4; a-d, indicated by sensor color"
   ]
  },
  {
   "cell_type": "code",
   "execution_count": 2,
   "metadata": {},
   "outputs": [],
   "source": [
    "path_emg = 'subject1_smile_1.xlsx'\n",
    "path_kin = 'subject1_smile_1_landmarks.csv'"
   ]
  },
  {
   "cell_type": "code",
   "execution_count": 3,
   "metadata": {},
   "outputs": [],
   "source": [
    "fs = 2000\n",
    "fps = 100"
   ]
  },
  {
   "cell_type": "code",
   "execution_count": 4,
   "metadata": {},
   "outputs": [],
   "source": [
    "m1 = \"Dep. anguli oris\"\n",
    "m2 = \"Orbicularis Oris (l)\"\n",
    "m3 = \"Zyg. Major\"\n",
    "m4 = \"Orbiculis Oculi\"\n",
    "\n",
    "a1 = \"L.Dep. anguli oris\"\n",
    "a2 = \"L.Orbicularis Oris (l)\"\n",
    "a3 = \"L.Zyg. Major\"\n",
    "a4 = \"L.Orbiculis Oculi\"\n",
    "\n",
    "b1 = \"R.Dep. anguli oris\"\n",
    "b2 = \"R.Orbicularis Oris (l)\"\n",
    "b3 = \"R.Zyg. major\"\n",
    "b4 = \"R.Orbiculis Oculi\"\n",
    "\n",
    "l = \"left\"\n",
    "r = \"right\""
   ]
  },
  {
   "cell_type": "code",
   "execution_count": 5,
   "metadata": {},
   "outputs": [],
   "source": [
    "def import_emg(path_emg = path_emg):\n",
    "    df = pd.read_excel(path_emg)\n",
    "    return df\n",
    "\n",
    "def import_kin(path_kin = path_kin):   \n",
    "    kin = pd.read_csv(path_kin)\n",
    "    kin = kin.reindex(kin['Frame_number'].index[::-1])\n",
    "    return kin"
   ]
  },
  {
   "cell_type": "markdown",
   "metadata": {},
   "source": [
    "## Characteristics"
   ]
  },
  {
   "cell_type": "code",
   "execution_count": 13,
   "metadata": {},
   "outputs": [],
   "source": [
    "def print_char_emg(df, fs = fs):\n",
    "    t_t_emg = df['time'].iloc[-1]\n",
    "    N_samples = int(fs*t_t_emg)\n",
    "\n",
    "    char = {\n",
    "      \"seconds\": t_t_emg,\n",
    "      \"N\": N_samples,\n",
    "      \"fs\": fs\n",
    "    }\n",
    "    intro = \"EMG data:\"+\"\\n\"+\"%s seconds long with a total of %s samples at %s Hz.\"%(t_t_emg,N_samples,fs)\n",
    "    print(intro)\n",
    "    \n",
    "def print_char_kin(kin, fps = fps):\n",
    "    t_t_frames = kin['Frame_number'].iloc[-1]/100\n",
    "    N_frames = int(fps*t_t_frames)\n",
    "\n",
    "    char = {\n",
    "      \"seconds\": t_t_frames,\n",
    "      \"N\": N_frames,\n",
    "      \"fps\": fps\n",
    "    }\n",
    "    intro = \"Kinematic data:\"+\"\\n\"+\"%s seconds long with a total of %s frames at %s Hz.\"%(t_t_frames,N_frames,fps)\n",
    "    print(intro)"
   ]
  },
  {
   "cell_type": "markdown",
   "metadata": {},
   "source": [
    "## Call and Assign variables for EMG and convert to microV "
   ]
  },
  {
   "cell_type": "code",
   "execution_count": 14,
   "metadata": {},
   "outputs": [],
   "source": [
    "def set_params_emg(df, mag = 6):\n",
    "    for i in range(1,5):\n",
    "        df[f'a{i}'] = df[f'a{i}']*(10**mag)\n",
    "        df[f'b{i}'] = df[f'b{i}']*(10**mag)\n",
    "    return df"
   ]
  },
  {
   "cell_type": "markdown",
   "metadata": {},
   "source": [
    "## Plot Raw EMG Data"
   ]
  },
  {
   "cell_type": "code",
   "execution_count": 16,
   "metadata": {},
   "outputs": [],
   "source": [
    "def plot_raw_emg(df):\n",
    "    for i in range(1,5):\n",
    "        fig, ax = plt.subplots(1, 2, figsize=(8, 4))\n",
    "        ax[0].plot(raw_emg['time'],raw_emg[f'a{i}'] , color='blue',label = '%s'%l)\n",
    "        ax[0].set_title(\"Raw Signal:\" + \"\\n\" + \"%s\"%f'm{i}')\n",
    "        ax[0].set_ylabel(\"Voltage (microV)\")\n",
    "        ax[0].set_xlabel(\"time(s)\")\n",
    "        ax[0].grid()\n",
    "        ax[0].autoscale()\n",
    "        leg = ax[0].legend()\n",
    "\n",
    "        ax[1].plot(raw_emg['time'],raw_emg[f'b{i}'] , color='green', label = '%s'%r)\n",
    "        ax[1].set_title(\"Raw Signal:\" + \"\\n\" + \"%s\"%f'm{i}')\n",
    "        ax[1].set_ylabel(\"Voltage (microV)\")\n",
    "        ax[1].set_xlabel(\"time(s)\")\n",
    "        ax[1].grid()\n",
    "        ax[1].autoscale()\n",
    "        leg = ax[1].legend()"
   ]
  },
  {
   "cell_type": "markdown",
   "metadata": {},
   "source": [
    "## Design Bandpass"
   ]
  },
  {
   "cell_type": "code",
   "execution_count": 17,
   "metadata": {},
   "outputs": [],
   "source": [
    "def bandpass_create(low_band = 3, high_band = 400, order_bp = 2, fs = fs):\n",
    "    z1, w1 = sp.signal.bessel(order_bp, [low_band,high_band], btype='bandpass',analog = False, output= 'ba', fs = fs)\n",
    "    return z1, w1, low_band, high_band"
   ]
  },
  {
   "cell_type": "code",
   "execution_count": 22,
   "metadata": {},
   "outputs": [],
   "source": [
    "def bandpass_bode(z1 ,w1,low_band,high_band, order_bp = 2,fs = 2000):\n",
    "    sys_bp = signal.dlti(z1, w1, dt = 1/fs)\n",
    "    w_bp, mag_bp, phase_bp = signal.dbode(sys_bp, w = np.logspace(-2,3,100)*2*np.pi)\n",
    "    w_bp, mag_bp, phase_bp = sys_bp.bode(w = (np.logspace(-2,2.7,100)*2*np.pi)/(fs/2))\n",
    "    \n",
    "    low_cut = low_band\n",
    "    high_cut = high_band\n",
    "\n",
    "    freq_bp = w_bp/(2*np.pi)\n",
    "\n",
    "    fig, ax = plt.subplots(2,1,figsize = (6,8))\n",
    "    ax[0].semilogx(freq_bp, mag_bp)  \n",
    "    ax[0].set_title(r'Bode Diagram:'+ '\\n' + '%snd Order %s and %s Hz BP'%(order_bp,low_band,high_band), fontsize=16)\n",
    "    ax[0].set_xlabel('Frequency (Hz)')\n",
    "    ax[0].set_ylabel('Magnitude (dB)')\n",
    "    #ax[0].autoscale()\n",
    "    ax[0].grid()\n",
    "\n",
    "    ax[1].semilogx(freq_bp, phase_bp) \n",
    "    ax[1].set_ylabel(\"Phase (degree)\")\n",
    "    ax[1].set_xlabel(\"Freq (hz)\")\n",
    "    #ax[1].autoscale()\n",
    "    ax[1].grid()\n",
    "    plt.show()"
   ]
  },
  {
   "cell_type": "code",
   "execution_count": 58,
   "metadata": {},
   "outputs": [],
   "source": [
    "def bandpass_apply(df, z1, w1):\n",
    "    band = df\n",
    "    for i in range(1,5):\n",
    "        band[f'a{i}'] = sp.signal.filtfilt(z1, w1, band[f'a{i}'])\n",
    "        band[f'b{i}'] = sp.signal.filtfilt(z1, w1, band[f'b{i}'])\n",
    "    return band"
   ]
  },
  {
   "cell_type": "code",
   "execution_count": 24,
   "metadata": {},
   "outputs": [],
   "source": [
    "def plot_bandpassed(df):\n",
    "    for i in range(1,5):\n",
    "        fig, ax = plt.subplots(1, 2, figsize=(8, 4))\n",
    "        ax[0].plot(df['time'],df[f'a{i}'] , color='blue',label = '%s'%l)\n",
    "        ax[0].set_title(\"Rectified Signal:\" + \"\\n\" + \"%s\"%f'm{i}')\n",
    "        ax[0].set_ylabel(\"Voltage (microV)\")\n",
    "        ax[0].set_xlabel(\"time(s)\")\n",
    "        ax[0].grid()\n",
    "        ax[0].autoscale()\n",
    "        leg = ax[0].legend()\n",
    "\n",
    "        ax[1].plot(df['time'],df[f'b{i}'] , color='green', label = '%s'%r)\n",
    "        ax[1].set_title(\"Rectified Signal:\" + \"\\n\" + \"%s\"%f'm{i}')\n",
    "        ax[1].set_ylabel(\"Voltage (microV)\")\n",
    "        ax[1].set_xlabel(\"time(s)\")\n",
    "        ax[1].grid()\n",
    "        ax[1].autoscale()\n",
    "        leg = ax[1].legend()"
   ]
  },
  {
   "cell_type": "markdown",
   "metadata": {},
   "source": [
    "## Rectify signal"
   ]
  },
  {
   "cell_type": "code",
   "execution_count": 26,
   "metadata": {},
   "outputs": [],
   "source": [
    "def rectify(df):\n",
    "    for i in range(1,5):\n",
    "        df[f'a{i}'] = np.abs(df[f'a{i}'])\n",
    "        df[f'b{i}'] = np.abs(df[f'b{i}'])\n",
    "    rectified = df\n",
    "    return rectified"
   ]
  },
  {
   "cell_type": "code",
   "execution_count": 27,
   "metadata": {},
   "outputs": [],
   "source": [
    "def plot_rectified(df):\n",
    "    for i in range(1,5):\n",
    "        fig, ax = plt.subplots(1, 2, figsize=(8, 4))\n",
    "        ax[0].plot(df['time'],df[f'a{i}'] , color='blue',label = '%s'%l)\n",
    "        ax[0].set_title(\"Rectified Signal:\" + \"\\n\" + \"%s\"%f'm{i}')\n",
    "        ax[0].set_ylabel(\"Voltage (microV)\")\n",
    "        ax[0].set_xlabel(\"time(s)\")\n",
    "        ax[0].grid()\n",
    "        ax[0].autoscale()\n",
    "        leg = ax[0].legend()\n",
    "\n",
    "        ax[1].plot(df['time'],df[f'b{i}'] , color='green', label = '%s'%r)\n",
    "        ax[1].set_title(\"Rectified Signal:\" + \"\\n\" + \"%s\"%f'm{i}')\n",
    "        ax[1].set_ylabel(\"Voltage (microV)\")\n",
    "        ax[1].set_xlabel(\"time(s)\")\n",
    "        ax[1].grid()\n",
    "        ax[1].autoscale()\n",
    "        leg = ax[1].legend()"
   ]
  },
  {
   "cell_type": "markdown",
   "metadata": {},
   "source": [
    "## Linear Envelope"
   ]
  },
  {
   "cell_type": "code",
   "execution_count": 28,
   "metadata": {},
   "outputs": [],
   "source": [
    "def linear_envelope(df, window_size = 100):\n",
    "    window = np.ones(window_size)/float(window_size)\n",
    "    for i in range(1,5):\n",
    "        df[f'a{i}'] = np.sqrt(np.convolve(df[f'a{i}']**2,window,'same'))\n",
    "        df[f'b{i}'] = np.sqrt(np.convolve(df[f'b{i}']**2,window,'same'))\n",
    "    rms = df\n",
    "    return rms"
   ]
  },
  {
   "cell_type": "code",
   "execution_count": 29,
   "metadata": {},
   "outputs": [],
   "source": [
    "def plot_rms(df):\n",
    "    for i in range(1,5):\n",
    "        fig, ax = plt.subplots(2,1,figsize = (8,6))\n",
    "        ax[0].plot(df['time'], df[f'a{i}'], label = '%s'%l)\n",
    "        ax[0].set_title(r'RMS:'+ '\\n' + '%s'%(f'm{i}'), fontsize=16)\n",
    "        ax[0].set_xlabel('time(s)')\n",
    "        ax[0].set_ylabel('EMG (microV)')\n",
    "        ax[0].autoscale()\n",
    "        ax[0].grid()\n",
    "        leg = ax[0].legend()\n",
    "\n",
    "        ax[1].plot(df['time'], df[f'b{i}'],'g',label = '%s'%r)\n",
    "        ax[1].set_ylabel(\"V (microV)\")\n",
    "        ax[1].set_xlabel(\"time (s)\")\n",
    "        ax[1].autoscale()\n",
    "        ax[1].grid()\n",
    "        leg = ax[1].legend()"
   ]
  },
  {
   "cell_type": "markdown",
   "metadata": {},
   "source": [
    "## Full EMG Processing"
   ]
  },
  {
   "cell_type": "code",
   "execution_count": null,
   "metadata": {},
   "outputs": [],
   "source": [
    "def process_emg(df):\n",
    "    for i in range(1,5):\n",
    "        df[f'a{i}'] = linear_envelope(rectify(bandpass_apply(df)))[f'a{i}']\n",
    "        df[f'b{i}'] = linear_envelope(rectify(bandpass_apply(df)))[f'b{i}']\n",
    "    output = df\n",
    "    return output"
   ]
  },
  {
   "cell_type": "code",
   "execution_count": null,
   "metadata": {},
   "outputs": [],
   "source": [
    "def plot_emg(df):\n",
    "    for i in range(1,5):        \n",
    "        fig, ax = plt.subplots()\n",
    "        ax.plot(df['time'], df[f'a{i}'], label = '%s'%l)\n",
    "        ax.plot(df['time'], df[f'b{i}'],'g',label = '%s'%r)\n",
    "        ax.set_title(r'Left vs. Right RMS: Smile' +'\\n'+'%s'%f'm{i}', fontsize=16)\n",
    "        ax.set_xlabel('time(s)')\n",
    "        ax.set_ylabel('Distance (px)')\n",
    "        ax.grid()\n",
    "        leg = ax.legend()"
   ]
  },
  {
   "cell_type": "code",
   "execution_count": 30,
   "metadata": {},
   "outputs": [],
   "source": [
    "def compare_to_rect(df,rect, window_size = 100, fs = 2000):\n",
    "    window = np.ones(window_size)/float(window_size)\n",
    "    r = \"Right\"\n",
    "    l = \"Left\"\n",
    "    \n",
    "    for idx in range(1,5):\n",
    "        fig, ax1 = plt.subplots()\n",
    "        color = 'tab:red'\n",
    "        ax1.set_xlabel('time (s)')\n",
    "        ax1.set_ylabel('EMG (microV)')\n",
    "        ax1.plot(df['time'], df[f'a{idx}'],label = 'Filtered', color = 'r')\n",
    "        ax1.set_title('RMS vs. Raw EMG:' +'\\n' + '%s'%f'a{i}')\n",
    "        ax1.grid()\n",
    "        leg1 = ax1.legend()\n",
    "\n",
    "        ax2 = ax1.twinx()  # instantiate a second axes that shares the same x-axis\n",
    "\n",
    "        color = 'tab:blue'\n",
    "        ax2.set_ylabel('Mouth (px)')  # we already handled the x-label with ax1\n",
    "        ax2.plot(df['time'], rect[f'a{idx}'],label = 'Rect', color = 'b', alpha = 0.2)\n",
    "        ax2.tick_params(axis='y', labelcolor='r')\n",
    "        leg2 = ax2.legend()\n",
    "\n",
    "        fig.tight_layout()  # otherwise the right y-label is slightly clipped\n",
    "        plt.show()"
   ]
  },
  {
   "cell_type": "code",
   "execution_count": 31,
   "metadata": {},
   "outputs": [],
   "source": [
    "def plot_rect(df,rect):\n",
    "    df = process_emg(df)\n",
    "    for i in range(1,5):        \n",
    "        fig, ax = plt.subplots()\n",
    "        ax.plot(df['time'], df[f'a{i}'], label = '%s'%'Final')\n",
    "        ax.plot(df['time'], rect[f'a{i}'],'g',label = '%s'%'Rect')\n",
    "        ax.set_title(r'Left vs. Right RMS: Smile' +'\\n'+'%s'%f'm{i}', fontsize=16)\n",
    "        ax.set_xlabel('time(s)')\n",
    "        ax.set_ylabel('Distance (px)')\n",
    "        ax.grid()\n",
    "        leg = ax.legend()"
   ]
  },
  {
   "cell_type": "markdown",
   "metadata": {},
   "source": [
    "## Power EMG"
   ]
  },
  {
   "cell_type": "code",
   "execution_count": 32,
   "metadata": {},
   "outputs": [],
   "source": [
    "def emg_power(df,fs = 2000):\n",
    "    t_t_emg = df['time'].iloc[-1]\n",
    "    N_samples = int(fs*t_t_emg)\n",
    "    for i in range(1,5):\n",
    "        df[f'a{i}'] = (df[f'a{i}']**2)/(2*N_samples+1)\n",
    "        df[f'b{i}'] = (df[f'a{i}']**2)/(2*N_samples+1)\n",
    "    Power = df\n",
    "    return Power"
   ]
  },
  {
   "cell_type": "markdown",
   "metadata": {},
   "source": [
    "## Introducing Kinematic Data - Low Pass"
   ]
  },
  {
   "cell_type": "code",
   "execution_count": 34,
   "metadata": {},
   "outputs": [],
   "source": [
    "def rawVert(df = raw_kin):\n",
    "    mouthFrame = df['Frame_number'] \n",
    "    \n",
    "    pos_top = df[['landmark_62_x', 'landmark_62_y']].to_numpy()\n",
    "    pos_bottom = df[['landmark_66_x', 'landmark_66_y']].to_numpy()\n",
    "    \n",
    "    dispVertical = np.linalg.norm(pos_top - pos_bottom, axis=1)\n",
    "    return dispVertical\n",
    "\n",
    "def rawHoriz(df = raw_kin):\n",
    "    mouthFrame = df['Frame_number'] \n",
    "    \n",
    "    pos_derecha = df[['landmark_51_x', 'landmark_51_y']].to_numpy()\n",
    "    pos_izquierda = df[['landmark_57_x', 'landmark_57_y']].to_numpy()\n",
    "    dispHorizontal = np.linalg.norm(pos_derecha - pos_izquierda, axis = 1)\n",
    "    \n",
    "    return dispHorizontal"
   ]
  },
  {
   "cell_type": "code",
   "execution_count": null,
   "metadata": {},
   "outputs": [],
   "source": [
    "def filter_kin_create(low_pass_frames = 20, fps = 100, lp_order = 2):\n",
    "    z3, w3 = sp.signal.bessel(lp_order, Wn = low_pass_frames/ (fps / 2), btype = 'lowpass')\n",
    "    return z3, w3"
   ]
  },
  {
   "cell_type": "code",
   "execution_count": 37,
   "metadata": {
    "slideshow": {
     "slide_type": "-"
    }
   },
   "outputs": [],
   "source": [
    "def filterHoriz(df,z3, w3):\n",
    "#     filt_distanceVertical = sp.signal.filtfilt(z3, w3, distanceVertical)\n",
    "    dispHoriz = sp.signal.filtfilt(z3, w3, df)\n",
    "    return dispHoriz\n",
    "def filterVert(df,z3, w3):\n",
    "#     filt_distanceVertical = sp.signal.filtfilt(z3, w3, distanceVertical)\n",
    "    dispVert = sp.signal.filtfilt(z3, w3, df)\n",
    "    return dispVert"
   ]
  },
  {
   "cell_type": "code",
   "execution_count": 38,
   "metadata": {},
   "outputs": [],
   "source": [
    "def lowpass_bode(z3, w3, low_pass_frames = 20):\n",
    "    sys = signal.TransferFunction(z3, w3)\n",
    "    w, mag, phase = signal.bode(sys)\n",
    "\n",
    "    fig, ax = plt.subplots(2,1,figsize = (6,8))\n",
    "    ax[0].semilogx(w, mag)  \n",
    "    ax[0].set_title(r'Bode Diagram:'+ '\\n' + ' %s Hz 2nd Order Bessel LP'%low_pass_frames, fontsize=16)\n",
    "    ax[0].set_xlabel('Frequency (rad/s)')\n",
    "    ax[0].set_ylabel('Magnitude (dB)')\n",
    "    ax[0].autoscale()\n",
    "    ax[0].grid()\n",
    "\n",
    "    ax[1].semilogx(w, phase) \n",
    "    ax[1].set_ylabel(\"Phase (degree)\")\n",
    "    ax[1].set_xlabel(\"Frequency (rad/s)\")\n",
    "    ax[1].autoscale()\n",
    "    ax[1].grid()\n",
    "    plt.show()"
   ]
  },
  {
   "cell_type": "code",
   "execution_count": 39,
   "metadata": {},
   "outputs": [],
   "source": [
    "def compare_kin(df,raw, window_size = 100, fps = 100, t_low = 1, t_high = 27):\n",
    "    fig, ax = plt.subplots()\n",
    "    ax.plot(mouthFrame/fps, raw,'--b',label = \"Raw\" )\n",
    "    ax.plot(mouthFrame/fps, df,'--r',label = \"Filtered\")\n",
    "    ax.set_title(r'Raw vs Filtered Vertical Distance: Smile ', fontsize=16)\n",
    "    ax.set_xlabel('time(s)')\n",
    "    ax.set_ylabel('Distance (px)')\n",
    "    ax.grid()\n",
    "    leg = ax.legend()"
   ]
  },
  {
   "cell_type": "markdown",
   "metadata": {},
   "source": [
    "## Plotting RMS vs Landmarks (Mouth Horizontal)"
   ]
  },
  {
   "cell_type": "code",
   "execution_count": 40,
   "metadata": {
    "scrolled": true
   },
   "outputs": [],
   "source": [
    "def plot_emg_horiz(df,horiz,fps = 100):\n",
    "    for i in range(1,5):\n",
    "        fig, ax1 = plt.subplots()\n",
    "        color = 'tab:red'\n",
    "        ax1.set_xlabel('time (s)')\n",
    "        ax1.set_ylabel('EMG (microV)')\n",
    "        ax1.plot(df['time'], df[f'a{i}'],label = '%s'%m3)\n",
    "        ax1.set_title('RMS vs. Mouth Horizontal distance:' +'\\n' + '%s'%f'm{i}')\n",
    "        ax1.autoscale()\n",
    "        ax1.tick_params(axis='y')\n",
    "        ax1.grid()\n",
    "        leg1 = ax1.legend()\n",
    "\n",
    "        ax2 = ax1.twinx()  # instantiate a second axes that shares the same x-axis\n",
    "\n",
    "        color = 'tab:blue'\n",
    "        ax2.set_ylabel('Mouth (px)')  # we already handled the x-label with ax1\n",
    "        ax2.plot(mouthFrame/fps, horiz,'--o',label = 'Dist', color = 'r')\n",
    "        ax2.tick_params(axis='y', labelcolor='r')\n",
    "        leg2 = ax2.legend()"
   ]
  },
  {
   "cell_type": "markdown",
   "metadata": {},
   "source": [
    "z1, w1, low_band, high_band = bandpass_create()\n",
    "filtered = bandpass_apply(raw_emg)\n",
    "rectified = rectify(filtered)\n",
    "emg = linear_envelope(rectified)"
   ]
  },
  {
   "cell_type": "markdown",
   "metadata": {},
   "source": [
    "## Plot Power, RMS, and filtered Kinematic Data: Whole period (Mouth Horizontal)"
   ]
  },
  {
   "cell_type": "code",
   "execution_count": 41,
   "metadata": {},
   "outputs": [],
   "source": [
    "def plot_all(df,Power,kin):\n",
    "    for i in range(1,5):\n",
    "        fig, ax1 = plt.subplots()\n",
    "        color = 'tab:red'\n",
    "        ax1.set_xlabel('time (s)')\n",
    "        ax1.set_ylabel('EMG (microV)')\n",
    "        ax1.plot(df['time'], df[f'a{i}'],label = 'RMS', color = 'g')\n",
    "        ax1.set_title('RMS vs. Mouth Horizontal distance:' +'\\n' + '%s'%a3)\n",
    "#         ax1.tick_params(axis='y')\n",
    "        leg1 = ax1.legend()\n",
    "\n",
    "        ax2 = ax1.twinx()  # instantiate a second axes that shares the same x-axis\n",
    "\n",
    "        color = 'tab:blue'\n",
    "        ax2.set_ylabel('Mouth (px)')  # we already handled the x-label with ax1\n",
    "        ax2.plot(mouthFrame/fps, kin,'--o',label = 'Dist', color = 'r')\n",
    "        ax2.tick_params(axis='y', labelcolor='r')\n",
    "        leg2 = ax2.legend()\n",
    "\n",
    "        ax3 = ax1.twinx()  # instantiate a second axes that shares the same x-axis\n",
    "\n",
    "        color = 'tab:blue'\n",
    "        ax3.set_ylabel('Mouth (px)')  # we already handled the x-label with ax1\n",
    "        ax3.plot(Power['time'], Power[f'a{i}'], label = 'Power', color = 'b',alpha = 0.3)\n",
    "        ax3.tick_params(axis='y', labelcolor='r')\n",
    "        ax1.grid()\n",
    "        leg3 = ax3.legend()\n",
    "\n",
    "        fig.tight_layout()  # otherwise the right y-label is slightly clipped\n",
    "        plt.show()"
   ]
  },
  {
   "cell_type": "code",
   "execution_count": 42,
   "metadata": {},
   "outputs": [],
   "source": [
    "def find_thresholds(df):\n",
    "    threshold = 71\n",
    "    var1 = []\n",
    "    var2 = []\n",
    "    for i in range(len(df)): \n",
    "        if ((df[i] <= threshold) and (df[i-1] < threshold)):\n",
    "            var1.append(i)\n",
    "        if ((df[i-1] <= threshold) and (df[i] > threshold)):\n",
    "            var2.append(i)\n",
    "    return var1, var2"
   ]
  },
  {
   "cell_type": "code",
   "execution_count": null,
   "metadata": {},
   "outputs": [],
   "source": [
    "var1, var2 = find_thresholds(Horiz)"
   ]
  },
  {
   "cell_type": "code",
   "execution_count": null,
   "metadata": {},
   "outputs": [],
   "source": [
    "def vertical_displacement(df,var1,var2):\n",
    "    displacement = []\n",
    "    for i in range(len(var1)):\n",
    "        low_pos[i] = df[var1:var1+10].mean()\n",
    "        high_pos[i] = df[int((var2-var1)/2 + var1)-10:int((var2-var1)/2 + var1)+10].mean()\n",
    "        displacement.append(high_pos-low_pos)\n",
    "    return displacement"
   ]
  },
  {
   "cell_type": "code",
   "execution_count": null,
   "metadata": {
    "scrolled": false
   },
   "outputs": [],
   "source": [
    "v = vertical_displacement(df = Vert,var1 = var1,var2 = var2)"
   ]
  },
  {
   "cell_type": "markdown",
   "metadata": {},
   "source": [
    "distanceVertical_average = pd.DataFrame({'Displacement': distanceVertical_average})\n",
    "\n",
    "Power_average = pd.DataFrame({'Power': Power_average})\n",
    "  \n",
    "# the default behaviour is join='outer'\n",
    "# inner join\n",
    "  \n",
    "result = pd.concat([Power_average, distanceVertical_average], axis=1, join='inner')\n",
    "display(result)"
   ]
  },
  {
   "cell_type": "code",
   "execution_count": null,
   "metadata": {},
   "outputs": [],
   "source": [
    "from scipy import sparse\n",
    "from scipy.sparse.linalg import spsolve\n",
    "def baseline_als_optimized(y, lam, p, niter=10):\n",
    "    L = len(y)\n",
    "    D = sparse.diags([1,-2,1],[0,-1,-2], shape=(L,L-2))\n",
    "    D = lam * D.dot(D.transpose()) # Precompute this term since it does not depend on `w`\n",
    "    w = np.ones(L)\n",
    "    W = sparse.spdiags(w, 0, L, L)\n",
    "    for i in range(niter):\n",
    "        W.setdiag(w) # Do not create a new matrix, just update diagonal values\n",
    "        Z = W + D\n",
    "        z = spsolve(Z, w*y)\n",
    "        w = p * (y > z) + (1-p) * (y < z)\n",
    "    return z"
   ]
  },
  {
   "cell_type": "code",
   "execution_count": null,
   "metadata": {},
   "outputs": [],
   "source": [
    "z = baseline_als_optimized(Horiz,lam = 10**2,p = 0.01)"
   ]
  },
  {
   "cell_type": "code",
   "execution_count": null,
   "metadata": {},
   "outputs": [],
   "source": [
    "%matplotlib qt\n",
    "plt.plot(z)\n",
    "plt.grid()"
   ]
  },
  {
   "cell_type": "markdown",
   "metadata": {},
   "source": [
    "## WORKING"
   ]
  },
  {
   "cell_type": "code",
   "execution_count": 59,
   "metadata": {},
   "outputs": [],
   "source": [
    "raw_emg = import_emg()\n",
    "raw_kin = import_kin()"
   ]
  },
  {
   "cell_type": "code",
   "execution_count": 60,
   "metadata": {},
   "outputs": [],
   "source": [
    "z1, w1, low_band, high_band = bandpass_create()"
   ]
  },
  {
   "cell_type": "code",
   "execution_count": 61,
   "metadata": {},
   "outputs": [
    {
     "data": {
      "image/png": "[encoded data removed]",
      "text/plain": [
       "<Figure size 576x288 with 2 Axes>"
      ]
     },
     "metadata": {
      "needs_background": "light"
     },
     "output_type": "display_data"
    },
    {
     "data": {
      "image/png": "[encoded data removed]",
      "text/plain": [
       "<Figure size 576x288 with 2 Axes>"
      ]
     },
     "metadata": {
      "needs_background": "light"
     },
     "output_type": "display_data"
    },
    {
     "data": {
      "image/png": "[encoded data removed]",
      "text/plain": [
       "<Figure size 576x288 with 2 Axes>"
      ]
     },
     "metadata": {
      "needs_background": "light"
     },
     "output_type": "display_data"
    },
    {
     "data": {
      "image/png": "[encoded data removed]",
      "text/plain": [
       "<Figure size 576x288 with 2 Axes>"
      ]
     },
     "metadata": {
      "needs_background": "light"
     },
     "output_type": "display_data"
    }
   ],
   "source": [
    "band = bandpass_apply(raw_emg, z1, w1)\n",
    "plot_bandpassed(band)"
   ]
  },
  {
   "cell_type": "code",
   "execution_count": 63,
   "metadata": {},
   "outputs": [
    {
     "name": "stdout",
     "output_type": "stream",
     "text": [
      "        time     a1     a2     a3     a4     b1     b2     b3     b4\n",
      "0      False  False  False  False  False  False  False  False  False\n",
      "1      False  False  False  False  False  False  False  False  False\n",
      "2      False  False  False  False  False  False  False  False  False\n",
      "3      False  False  False  False  False  False  False  False  False\n",
      "4      False  False  False  False  False  False  False  False  False\n",
      "...      ...    ...    ...    ...    ...    ...    ...    ...    ...\n",
      "54989  False  False  False  False  False  False  False  False  False\n",
      "54990  False  False  False  False  False  False  False  False  False\n",
      "54991  False  False  False  False  False  False  False  False  False\n",
      "54992  False  False  False  False  False  False  False  False  False\n",
      "54993  False  False  False  False  False  False  False  False  False\n",
      "\n",
      "[54994 rows x 9 columns]\n"
     ]
    }
   ],
   "source": [
    "print(band==import_emg) "
   ]
  },
  {
   "cell_type": "code",
   "execution_count": null,
   "metadata": {},
   "outputs": [],
   "source": []
  }
 ],
 "metadata": {
  "celltoolbar": "Slideshow",
  "kernelspec": {
   "display_name": "Python 3",
   "language": "python",
   "name": "python3"
  },
  "language_info": {
   "codemirror_mode": {
    "name": "ipython",
    "version": 3
   },
   "file_extension": ".py",
   "mimetype": "text/x-python",
   "name": "python",
   "nbconvert_exporter": "python",
   "pygments_lexer": "ipython3",
   "version": "3.6.10"
  }
 },
 "nbformat": 4,
 "nbformat_minor": 4
}
